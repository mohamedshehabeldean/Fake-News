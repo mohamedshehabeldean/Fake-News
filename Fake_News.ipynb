{
 "cells": [
  {
   "cell_type": "markdown",
   "metadata": {
    "id": "OyOKIIdZnpdC"
   },
   "source": [
    "## dataset"
   ]
  },
  {
   "cell_type": "markdown",
   "metadata": {
    "id": "9Glldjv1npdG"
   },
   "source": [
    "We use fake news dataset from kaggle: <a href='https://www.kaggle.com/competitions/fake-news/'>dataset link</a><br>\n",
    "\n",
    "Attribute Information<br>\n",
    "    <pre>1-id     :unique identifier.\n",
    "2-title  :title of the news.\n",
    "3-author :author that publish that news.\n",
    "4-text   :description or text or body of news.\n",
    "5-label  :class of reliable (`0`), or potentially fake (`1`).</pre>"
   ]
  },
  {
   "cell_type": "markdown",
   "metadata": {
    "id": "7Cp90sXPnpdH"
   },
   "source": [
    "# <font color=\"orange\">1. Preprocessing</font>"
   ]
  },
  {
   "cell_type": "markdown",
   "metadata": {
    "id": "D1Q0ADjmnpdI"
   },
   "source": [
    "## <font color=\"orange\">1.1 Library</font>"
   ]
  },
  {
   "cell_type": "code",
   "execution_count": 1,
   "metadata": {
    "colab": {
     "base_uri": "https://localhost:8080/"
    },
    "execution": {
     "iopub.execute_input": "2023-12-22T22:07:45.410539Z",
     "iopub.status.busy": "2023-12-22T22:07:45.410178Z",
     "iopub.status.idle": "2023-12-22T22:07:56.717895Z",
     "shell.execute_reply": "2023-12-22T22:07:56.716816Z",
     "shell.execute_reply.started": "2023-12-22T22:07:45.410494Z"
    },
    "id": "mw5B2U_LnpdI",
    "outputId": "cbf9c233-a52a-44fa-a077-9014379d563d"
   },
   "outputs": [
    {
     "name": "stderr",
     "output_type": "stream",
     "text": [
      "[nltk_data] Downloading package stopwords to\n",
      "[nltk_data]     C:\\Users\\DELL\\AppData\\Roaming\\nltk_data...\n",
      "[nltk_data]   Package stopwords is already up-to-date!\n",
      "[nltk_data] Downloading package punkt to\n",
      "[nltk_data]     C:\\Users\\DELL\\AppData\\Roaming\\nltk_data...\n",
      "[nltk_data]   Package punkt is already up-to-date!\n",
      "E:\\anconda\\envs\\machine\\lib\\site-packages\\tensorflow\\python\\framework\\dtypes.py:523: FutureWarning: Passing (type, 1) or '1type' as a synonym of type is deprecated; in a future version of numpy, it will be understood as (type, (1,)) / '(1,)type'.\n",
      "  _np_qint8 = np.dtype([(\"qint8\", np.int8, 1)])\n",
      "E:\\anconda\\envs\\machine\\lib\\site-packages\\tensorflow\\python\\framework\\dtypes.py:524: FutureWarning: Passing (type, 1) or '1type' as a synonym of type is deprecated; in a future version of numpy, it will be understood as (type, (1,)) / '(1,)type'.\n",
      "  _np_quint8 = np.dtype([(\"quint8\", np.uint8, 1)])\n",
      "E:\\anconda\\envs\\machine\\lib\\site-packages\\tensorflow\\python\\framework\\dtypes.py:525: FutureWarning: Passing (type, 1) or '1type' as a synonym of type is deprecated; in a future version of numpy, it will be understood as (type, (1,)) / '(1,)type'.\n",
      "  _np_qint16 = np.dtype([(\"qint16\", np.int16, 1)])\n",
      "E:\\anconda\\envs\\machine\\lib\\site-packages\\tensorflow\\python\\framework\\dtypes.py:526: FutureWarning: Passing (type, 1) or '1type' as a synonym of type is deprecated; in a future version of numpy, it will be understood as (type, (1,)) / '(1,)type'.\n",
      "  _np_quint16 = np.dtype([(\"quint16\", np.uint16, 1)])\n",
      "E:\\anconda\\envs\\machine\\lib\\site-packages\\tensorflow\\python\\framework\\dtypes.py:527: FutureWarning: Passing (type, 1) or '1type' as a synonym of type is deprecated; in a future version of numpy, it will be understood as (type, (1,)) / '(1,)type'.\n",
      "  _np_qint32 = np.dtype([(\"qint32\", np.int32, 1)])\n",
      "E:\\anconda\\envs\\machine\\lib\\site-packages\\tensorflow\\python\\framework\\dtypes.py:532: FutureWarning: Passing (type, 1) or '1type' as a synonym of type is deprecated; in a future version of numpy, it will be understood as (type, (1,)) / '(1,)type'.\n",
      "  np_resource = np.dtype([(\"resource\", np.ubyte, 1)])\n"
     ]
    }
   ],
   "source": [
    "# Reading Data\n",
    "import pandas as pd\n",
    "import numpy as np\n",
    "import matplotlib.pyplot as plt\n",
    "import seaborn as sns\n",
    "\n",
    "# Preprocessing Data\n",
    "import string, re\n",
    "import nltk\n",
    "nltk.download('stopwords')\n",
    "nltk.download('punkt')\n",
    "from nltk.corpus import stopwords\n",
    "from nltk.tokenize import word_tokenize\n",
    "from sklearn.model_selection import train_test_split\n",
    "from sklearn.feature_extraction.text import TfidfVectorizer\n",
    "from tensorflow.keras.preprocessing.sequence import pad_sequences\n",
    "from sklearn.neighbors import KNeighborsClassifier\n",
    "from sklearn.metrics import accuracy_score\n",
    "from sklearn.linear_model import LogisticRegression\n",
    "from sklearn.naive_bayes import GaussianNB\n",
    "from sklearn.naive_bayes import MultinomialNB\n",
    "from sklearn.naive_bayes import ComplementNB\n",
    "from sklearn.naive_bayes import BernoulliNB\n",
    "from sklearn.tree import DecisionTreeClassifier"
   ]
  },
  {
   "cell_type": "markdown",
   "metadata": {
    "id": "-58YHnNQnpdL"
   },
   "source": [
    "## <font color=\"orange\">1.2 Read Data</font>"
   ]
  },
  {
   "cell_type": "code",
   "execution_count": 2,
   "metadata": {
    "execution": {
     "iopub.execute_input": "2023-12-22T22:07:56.720952Z",
     "iopub.status.busy": "2023-12-22T22:07:56.720202Z",
     "iopub.status.idle": "2023-12-22T22:07:59.363864Z",
     "shell.execute_reply": "2023-12-22T22:07:59.362956Z",
     "shell.execute_reply.started": "2023-12-22T22:07:56.720916Z"
    },
    "id": "a2raTfAonpdM"
   },
   "outputs": [],
   "source": [
    "data_train=pd.read_csv('train.csv')\n",
    "data_test=pd.read_csv('test.csv')"
   ]
  },
  {
   "cell_type": "code",
   "execution_count": 3,
   "metadata": {
    "colab": {
     "base_uri": "https://localhost:8080/",
     "height": 206
    },
    "execution": {
     "iopub.execute_input": "2023-12-22T22:07:59.365113Z",
     "iopub.status.busy": "2023-12-22T22:07:59.364852Z",
     "iopub.status.idle": "2023-12-22T22:07:59.382438Z",
     "shell.execute_reply": "2023-12-22T22:07:59.381367Z",
     "shell.execute_reply.started": "2023-12-22T22:07:59.365090Z"
    },
    "id": "DuCoAx0hnpdM",
    "outputId": "2006be94-53ab-4e33-93ad-895b962ae087"
   },
   "outputs": [
    {
     "data": {
      "text/html": [
       "<div>\n",
       "<style scoped>\n",
       "    .dataframe tbody tr th:only-of-type {\n",
       "        vertical-align: middle;\n",
       "    }\n",
       "\n",
       "    .dataframe tbody tr th {\n",
       "        vertical-align: top;\n",
       "    }\n",
       "\n",
       "    .dataframe thead th {\n",
       "        text-align: right;\n",
       "    }\n",
       "</style>\n",
       "<table border=\"1\" class=\"dataframe\">\n",
       "  <thead>\n",
       "    <tr style=\"text-align: right;\">\n",
       "      <th></th>\n",
       "      <th>id</th>\n",
       "      <th>title</th>\n",
       "      <th>author</th>\n",
       "      <th>text</th>\n",
       "      <th>label</th>\n",
       "    </tr>\n",
       "  </thead>\n",
       "  <tbody>\n",
       "    <tr>\n",
       "      <th>0</th>\n",
       "      <td>0</td>\n",
       "      <td>House Dem Aide: We Didn’t Even See Comey’s Let...</td>\n",
       "      <td>Darrell Lucus</td>\n",
       "      <td>House Dem Aide: We Didn’t Even See Comey’s Let...</td>\n",
       "      <td>1</td>\n",
       "    </tr>\n",
       "    <tr>\n",
       "      <th>1</th>\n",
       "      <td>1</td>\n",
       "      <td>FLYNN: Hillary Clinton, Big Woman on Campus - ...</td>\n",
       "      <td>Daniel J. Flynn</td>\n",
       "      <td>Ever get the feeling your life circles the rou...</td>\n",
       "      <td>0</td>\n",
       "    </tr>\n",
       "    <tr>\n",
       "      <th>2</th>\n",
       "      <td>2</td>\n",
       "      <td>Why the Truth Might Get You Fired</td>\n",
       "      <td>Consortiumnews.com</td>\n",
       "      <td>Why the Truth Might Get You Fired October 29, ...</td>\n",
       "      <td>1</td>\n",
       "    </tr>\n",
       "    <tr>\n",
       "      <th>3</th>\n",
       "      <td>3</td>\n",
       "      <td>15 Civilians Killed In Single US Airstrike Hav...</td>\n",
       "      <td>Jessica Purkiss</td>\n",
       "      <td>Videos 15 Civilians Killed In Single US Airstr...</td>\n",
       "      <td>1</td>\n",
       "    </tr>\n",
       "    <tr>\n",
       "      <th>4</th>\n",
       "      <td>4</td>\n",
       "      <td>Iranian woman jailed for fictional unpublished...</td>\n",
       "      <td>Howard Portnoy</td>\n",
       "      <td>Print \\nAn Iranian woman has been sentenced to...</td>\n",
       "      <td>1</td>\n",
       "    </tr>\n",
       "  </tbody>\n",
       "</table>\n",
       "</div>"
      ],
      "text/plain": [
       "   id                                              title              author  \\\n",
       "0   0  House Dem Aide: We Didn’t Even See Comey’s Let...       Darrell Lucus   \n",
       "1   1  FLYNN: Hillary Clinton, Big Woman on Campus - ...     Daniel J. Flynn   \n",
       "2   2                  Why the Truth Might Get You Fired  Consortiumnews.com   \n",
       "3   3  15 Civilians Killed In Single US Airstrike Hav...     Jessica Purkiss   \n",
       "4   4  Iranian woman jailed for fictional unpublished...      Howard Portnoy   \n",
       "\n",
       "                                                text  label  \n",
       "0  House Dem Aide: We Didn’t Even See Comey’s Let...      1  \n",
       "1  Ever get the feeling your life circles the rou...      0  \n",
       "2  Why the Truth Might Get You Fired October 29, ...      1  \n",
       "3  Videos 15 Civilians Killed In Single US Airstr...      1  \n",
       "4  Print \\nAn Iranian woman has been sentenced to...      1  "
      ]
     },
     "execution_count": 3,
     "metadata": {},
     "output_type": "execute_result"
    }
   ],
   "source": [
    "#to show the first 5 rows in data\n",
    "data_train.head()"
   ]
  },
  {
   "cell_type": "code",
   "execution_count": 4,
   "metadata": {
    "colab": {
     "base_uri": "https://localhost:8080/",
     "height": 206
    },
    "execution": {
     "iopub.execute_input": "2023-12-22T22:07:59.385454Z",
     "iopub.status.busy": "2023-12-22T22:07:59.384633Z",
     "iopub.status.idle": "2023-12-22T22:07:59.393633Z",
     "shell.execute_reply": "2023-12-22T22:07:59.392924Z",
     "shell.execute_reply.started": "2023-12-22T22:07:59.385427Z"
    },
    "id": "PqaUHhFInpdN",
    "outputId": "76ee25b9-9934-44a6-e42e-fd1d7ad57557"
   },
   "outputs": [
    {
     "data": {
      "text/html": [
       "<div>\n",
       "<style scoped>\n",
       "    .dataframe tbody tr th:only-of-type {\n",
       "        vertical-align: middle;\n",
       "    }\n",
       "\n",
       "    .dataframe tbody tr th {\n",
       "        vertical-align: top;\n",
       "    }\n",
       "\n",
       "    .dataframe thead th {\n",
       "        text-align: right;\n",
       "    }\n",
       "</style>\n",
       "<table border=\"1\" class=\"dataframe\">\n",
       "  <thead>\n",
       "    <tr style=\"text-align: right;\">\n",
       "      <th></th>\n",
       "      <th>id</th>\n",
       "      <th>title</th>\n",
       "      <th>author</th>\n",
       "      <th>text</th>\n",
       "    </tr>\n",
       "  </thead>\n",
       "  <tbody>\n",
       "    <tr>\n",
       "      <th>0</th>\n",
       "      <td>20800</td>\n",
       "      <td>Specter of Trump Loosens Tongues, if Not Purse...</td>\n",
       "      <td>David Streitfeld</td>\n",
       "      <td>PALO ALTO, Calif.  —   After years of scorning...</td>\n",
       "    </tr>\n",
       "    <tr>\n",
       "      <th>1</th>\n",
       "      <td>20801</td>\n",
       "      <td>Russian warships ready to strike terrorists ne...</td>\n",
       "      <td>NaN</td>\n",
       "      <td>Russian warships ready to strike terrorists ne...</td>\n",
       "    </tr>\n",
       "    <tr>\n",
       "      <th>2</th>\n",
       "      <td>20802</td>\n",
       "      <td>#NoDAPL: Native American Leaders Vow to Stay A...</td>\n",
       "      <td>Common Dreams</td>\n",
       "      <td>Videos #NoDAPL: Native American Leaders Vow to...</td>\n",
       "    </tr>\n",
       "    <tr>\n",
       "      <th>3</th>\n",
       "      <td>20803</td>\n",
       "      <td>Tim Tebow Will Attempt Another Comeback, This ...</td>\n",
       "      <td>Daniel Victor</td>\n",
       "      <td>If at first you don’t succeed, try a different...</td>\n",
       "    </tr>\n",
       "    <tr>\n",
       "      <th>4</th>\n",
       "      <td>20804</td>\n",
       "      <td>Keiser Report: Meme Wars (E995)</td>\n",
       "      <td>Truth Broadcast Network</td>\n",
       "      <td>42 mins ago 1 Views 0 Comments 0 Likes 'For th...</td>\n",
       "    </tr>\n",
       "  </tbody>\n",
       "</table>\n",
       "</div>"
      ],
      "text/plain": [
       "      id                                              title  \\\n",
       "0  20800  Specter of Trump Loosens Tongues, if Not Purse...   \n",
       "1  20801  Russian warships ready to strike terrorists ne...   \n",
       "2  20802  #NoDAPL: Native American Leaders Vow to Stay A...   \n",
       "3  20803  Tim Tebow Will Attempt Another Comeback, This ...   \n",
       "4  20804                    Keiser Report: Meme Wars (E995)   \n",
       "\n",
       "                    author                                               text  \n",
       "0         David Streitfeld  PALO ALTO, Calif.  —   After years of scorning...  \n",
       "1                      NaN  Russian warships ready to strike terrorists ne...  \n",
       "2            Common Dreams  Videos #NoDAPL: Native American Leaders Vow to...  \n",
       "3            Daniel Victor  If at first you don’t succeed, try a different...  \n",
       "4  Truth Broadcast Network  42 mins ago 1 Views 0 Comments 0 Likes 'For th...  "
      ]
     },
     "execution_count": 4,
     "metadata": {},
     "output_type": "execute_result"
    }
   ],
   "source": [
    "#to show the first 5 rows in test\n",
    "data_test.head()"
   ]
  },
  {
   "cell_type": "code",
   "execution_count": 5,
   "metadata": {
    "colab": {
     "base_uri": "https://localhost:8080/"
    },
    "execution": {
     "iopub.execute_input": "2023-12-22T22:07:59.395183Z",
     "iopub.status.busy": "2023-12-22T22:07:59.394485Z",
     "iopub.status.idle": "2023-12-22T22:07:59.407892Z",
     "shell.execute_reply": "2023-12-22T22:07:59.406849Z",
     "shell.execute_reply.started": "2023-12-22T22:07:59.395158Z"
    },
    "id": "GW7DvIQFnpdN",
    "outputId": "54c8ebee-18ed-4942-d0a1-31c6e90386ad"
   },
   "outputs": [
    {
     "data": {
      "text/plain": [
       "id         int64\n",
       "title     object\n",
       "author    object\n",
       "text      object\n",
       "label      int64\n",
       "dtype: object"
      ]
     },
     "execution_count": 5,
     "metadata": {},
     "output_type": "execute_result"
    }
   ],
   "source": [
    "data_train.dtypes"
   ]
  },
  {
   "cell_type": "code",
   "execution_count": 6,
   "metadata": {
    "colab": {
     "base_uri": "https://localhost:8080/",
     "height": 423
    },
    "execution": {
     "iopub.execute_input": "2023-12-22T22:07:59.410032Z",
     "iopub.status.busy": "2023-12-22T22:07:59.409660Z",
     "iopub.status.idle": "2023-12-22T22:07:59.439221Z",
     "shell.execute_reply": "2023-12-22T22:07:59.438232Z",
     "shell.execute_reply.started": "2023-12-22T22:07:59.409996Z"
    },
    "id": "Klgj9n8dnpdO",
    "outputId": "ef22d866-0066-4148-eb67-49c1f387cdb2"
   },
   "outputs": [
    {
     "data": {
      "text/html": [
       "<div>\n",
       "<style scoped>\n",
       "    .dataframe tbody tr th:only-of-type {\n",
       "        vertical-align: middle;\n",
       "    }\n",
       "\n",
       "    .dataframe tbody tr th {\n",
       "        vertical-align: top;\n",
       "    }\n",
       "\n",
       "    .dataframe thead th {\n",
       "        text-align: right;\n",
       "    }\n",
       "</style>\n",
       "<table border=\"1\" class=\"dataframe\">\n",
       "  <thead>\n",
       "    <tr style=\"text-align: right;\">\n",
       "      <th></th>\n",
       "      <th>id</th>\n",
       "      <th>title</th>\n",
       "      <th>author</th>\n",
       "      <th>text</th>\n",
       "      <th>label</th>\n",
       "    </tr>\n",
       "  </thead>\n",
       "  <tbody>\n",
       "    <tr>\n",
       "      <th>6</th>\n",
       "      <td>6</td>\n",
       "      <td>Life: Life Of Luxury: Elton John’s 6 Favorite ...</td>\n",
       "      <td>NaN</td>\n",
       "      <td>Ever wonder how Britain’s most iconic pop pian...</td>\n",
       "      <td>1</td>\n",
       "    </tr>\n",
       "    <tr>\n",
       "      <th>8</th>\n",
       "      <td>8</td>\n",
       "      <td>Excerpts From a Draft Script for Donald Trump’...</td>\n",
       "      <td>NaN</td>\n",
       "      <td>Donald J. Trump is scheduled to make a highly ...</td>\n",
       "      <td>0</td>\n",
       "    </tr>\n",
       "    <tr>\n",
       "      <th>20</th>\n",
       "      <td>20</td>\n",
       "      <td>News: Hope For The GOP: A Nude Paul Ryan Has J...</td>\n",
       "      <td>NaN</td>\n",
       "      <td>Email \\nSince Donald Trump entered the electio...</td>\n",
       "      <td>1</td>\n",
       "    </tr>\n",
       "    <tr>\n",
       "      <th>23</th>\n",
       "      <td>23</td>\n",
       "      <td>Massachusetts Cop’s Wife Busted for Pinning Fa...</td>\n",
       "      <td>NaN</td>\n",
       "      <td>Massachusetts Cop’s Wife Busted for Pinning Fa...</td>\n",
       "      <td>1</td>\n",
       "    </tr>\n",
       "    <tr>\n",
       "      <th>31</th>\n",
       "      <td>31</td>\n",
       "      <td>Israel is Becoming Pivotal to China’s Mid-East...</td>\n",
       "      <td>NaN</td>\n",
       "      <td>Country: Israel While China is silently playin...</td>\n",
       "      <td>1</td>\n",
       "    </tr>\n",
       "    <tr>\n",
       "      <th>...</th>\n",
       "      <td>...</td>\n",
       "      <td>...</td>\n",
       "      <td>...</td>\n",
       "      <td>...</td>\n",
       "      <td>...</td>\n",
       "    </tr>\n",
       "    <tr>\n",
       "      <th>20745</th>\n",
       "      <td>20745</td>\n",
       "      <td>Thomas Frank Explores Whether Hillary Clinton ...</td>\n",
       "      <td>NaN</td>\n",
       "      <td>Thomas Frank Explores Whether Hillary Clinton ...</td>\n",
       "      <td>1</td>\n",
       "    </tr>\n",
       "    <tr>\n",
       "      <th>20768</th>\n",
       "      <td>20768</td>\n",
       "      <td>Osama bin Laden’s older brother rents out luxu...</td>\n",
       "      <td>NaN</td>\n",
       "      <td>Osama bin Laden’s older brother rents out luxu...</td>\n",
       "      <td>1</td>\n",
       "    </tr>\n",
       "    <tr>\n",
       "      <th>20771</th>\n",
       "      <td>20771</td>\n",
       "      <td>NaN</td>\n",
       "      <td>Letsbereal</td>\n",
       "      <td>DYN's Statement on Last Week's Botnet Attack h...</td>\n",
       "      <td>1</td>\n",
       "    </tr>\n",
       "    <tr>\n",
       "      <th>20772</th>\n",
       "      <td>20772</td>\n",
       "      <td>NaN</td>\n",
       "      <td>beersession</td>\n",
       "      <td>Kinda reminds me of when Carter gave away the ...</td>\n",
       "      <td>1</td>\n",
       "    </tr>\n",
       "    <tr>\n",
       "      <th>20786</th>\n",
       "      <td>20786</td>\n",
       "      <td>Government Forces Advancing at Damascus-Aleppo...</td>\n",
       "      <td>NaN</td>\n",
       "      <td>#FROMTHEFRONT #MAPS 22.11.2016 - 1,361 views 5...</td>\n",
       "      <td>1</td>\n",
       "    </tr>\n",
       "  </tbody>\n",
       "</table>\n",
       "<p>2515 rows × 5 columns</p>\n",
       "</div>"
      ],
      "text/plain": [
       "          id                                              title       author  \\\n",
       "6          6  Life: Life Of Luxury: Elton John’s 6 Favorite ...          NaN   \n",
       "8          8  Excerpts From a Draft Script for Donald Trump’...          NaN   \n",
       "20        20  News: Hope For The GOP: A Nude Paul Ryan Has J...          NaN   \n",
       "23        23  Massachusetts Cop’s Wife Busted for Pinning Fa...          NaN   \n",
       "31        31  Israel is Becoming Pivotal to China’s Mid-East...          NaN   \n",
       "...      ...                                                ...          ...   \n",
       "20745  20745  Thomas Frank Explores Whether Hillary Clinton ...          NaN   \n",
       "20768  20768  Osama bin Laden’s older brother rents out luxu...          NaN   \n",
       "20771  20771                                                NaN   Letsbereal   \n",
       "20772  20772                                                NaN  beersession   \n",
       "20786  20786  Government Forces Advancing at Damascus-Aleppo...          NaN   \n",
       "\n",
       "                                                    text  label  \n",
       "6      Ever wonder how Britain’s most iconic pop pian...      1  \n",
       "8      Donald J. Trump is scheduled to make a highly ...      0  \n",
       "20     Email \\nSince Donald Trump entered the electio...      1  \n",
       "23     Massachusetts Cop’s Wife Busted for Pinning Fa...      1  \n",
       "31     Country: Israel While China is silently playin...      1  \n",
       "...                                                  ...    ...  \n",
       "20745  Thomas Frank Explores Whether Hillary Clinton ...      1  \n",
       "20768  Osama bin Laden’s older brother rents out luxu...      1  \n",
       "20771  DYN's Statement on Last Week's Botnet Attack h...      1  \n",
       "20772  Kinda reminds me of when Carter gave away the ...      1  \n",
       "20786  #FROMTHEFRONT #MAPS 22.11.2016 - 1,361 views 5...      1  \n",
       "\n",
       "[2515 rows x 5 columns]"
      ]
     },
     "execution_count": 6,
     "metadata": {},
     "output_type": "execute_result"
    }
   ],
   "source": [
    "#calculate number of rows that contain missing values\n",
    "mask=data_train.isnull().any(axis=1)\n",
    "data_train[mask]"
   ]
  },
  {
   "cell_type": "code",
   "execution_count": 7,
   "metadata": {
    "colab": {
     "base_uri": "https://localhost:8080/"
    },
    "execution": {
     "iopub.execute_input": "2023-12-22T22:07:59.440653Z",
     "iopub.status.busy": "2023-12-22T22:07:59.440370Z",
     "iopub.status.idle": "2023-12-22T22:07:59.447256Z",
     "shell.execute_reply": "2023-12-22T22:07:59.446430Z",
     "shell.execute_reply.started": "2023-12-22T22:07:59.440629Z"
    },
    "id": "dz0d8y7WnpdP",
    "outputId": "c9c0df01-4317-4e3d-bf50-176782f0faf4"
   },
   "outputs": [
    {
     "data": {
      "text/plain": [
       "0.12091346153846154"
      ]
     },
     "execution_count": 7,
     "metadata": {},
     "output_type": "execute_result"
    }
   ],
   "source": [
    "# ratio of missing data in each row\n",
    "num_of_rows_with_nan=mask.sum()\n",
    "numb_of_raws=len(data_train)\n",
    "raw_ratio=num_of_rows_with_nan/numb_of_raws\n",
    "raw_ratio"
   ]
  },
  {
   "cell_type": "code",
   "execution_count": 8,
   "metadata": {
    "colab": {
     "base_uri": "https://localhost:8080/"
    },
    "execution": {
     "iopub.execute_input": "2023-12-22T22:07:59.449040Z",
     "iopub.status.busy": "2023-12-22T22:07:59.448473Z",
     "iopub.status.idle": "2023-12-22T22:07:59.466003Z",
     "shell.execute_reply": "2023-12-22T22:07:59.464646Z",
     "shell.execute_reply.started": "2023-12-22T22:07:59.449016Z"
    },
    "id": "AEVJnhqbnpdP",
    "outputId": "6c6da7c8-d13d-447d-ec4f-7e2ecc2feb70"
   },
   "outputs": [
    {
     "data": {
      "text/plain": [
       "id           0\n",
       "title      558\n",
       "author    1957\n",
       "text        39\n",
       "label        0\n",
       "dtype: int64"
      ]
     },
     "execution_count": 8,
     "metadata": {},
     "output_type": "execute_result"
    }
   ],
   "source": [
    "# number of missing value in each column\n",
    "data_train.isnull().sum()"
   ]
  },
  {
   "cell_type": "code",
   "execution_count": 9,
   "metadata": {
    "colab": {
     "base_uri": "https://localhost:8080/"
    },
    "execution": {
     "iopub.execute_input": "2023-12-22T22:07:59.468247Z",
     "iopub.status.busy": "2023-12-22T22:07:59.467796Z",
     "iopub.status.idle": "2023-12-22T22:07:59.479724Z",
     "shell.execute_reply": "2023-12-22T22:07:59.478713Z",
     "shell.execute_reply.started": "2023-12-22T22:07:59.468215Z"
    },
    "id": "lc4fEbLBnpdQ",
    "outputId": "b9cae8e9-6d0f-4528-de28-b1e5e7c26f1d"
   },
   "outputs": [
    {
     "data": {
      "text/plain": [
       "id          0\n",
       "title     122\n",
       "author    503\n",
       "text        7\n",
       "dtype: int64"
      ]
     },
     "execution_count": 9,
     "metadata": {},
     "output_type": "execute_result"
    }
   ],
   "source": [
    "# number of missing value in each column\n",
    "data_test.isnull().sum()"
   ]
  },
  {
   "cell_type": "code",
   "execution_count": 10,
   "metadata": {
    "colab": {
     "base_uri": "https://localhost:8080/"
    },
    "execution": {
     "iopub.execute_input": "2023-12-22T22:07:59.485205Z",
     "iopub.status.busy": "2023-12-22T22:07:59.484926Z",
     "iopub.status.idle": "2023-12-22T22:07:59.494729Z",
     "shell.execute_reply": "2023-12-22T22:07:59.493717Z",
     "shell.execute_reply.started": "2023-12-22T22:07:59.485179Z"
    },
    "id": "vpnTELkKnpdQ",
    "outputId": "cc845956-c736-42de-bb6d-ab03f41a2272"
   },
   "outputs": [
    {
     "data": {
      "text/plain": [
       "((20800, 5), (5200, 4))"
      ]
     },
     "execution_count": 10,
     "metadata": {},
     "output_type": "execute_result"
    }
   ],
   "source": [
    "data_train.shape, data_test.shape"
   ]
  },
  {
   "cell_type": "markdown",
   "metadata": {
    "id": "CnKhBBmSnpdR"
   },
   "source": [
    "### show relation between train and test  data"
   ]
  },
  {
   "cell_type": "code",
   "execution_count": 11,
   "metadata": {
    "colab": {
     "base_uri": "https://localhost:8080/",
     "height": 566
    },
    "execution": {
     "iopub.execute_input": "2023-12-22T22:07:59.497125Z",
     "iopub.status.busy": "2023-12-22T22:07:59.496864Z",
     "iopub.status.idle": "2023-12-22T22:07:59.836284Z",
     "shell.execute_reply": "2023-12-22T22:07:59.835707Z",
     "shell.execute_reply.started": "2023-12-22T22:07:59.497101Z"
    },
    "id": "VvU-XkV6npdR",
    "outputId": "b6c58655-d49a-4861-afd7-f33239757d67"
   },
   "outputs": [
    {
     "data": {
      "image/png": "[encoded data removed]",
      "text/plain": [
       "<Figure size 864x432 with 2 Axes>"
      ]
     },
     "metadata": {
      "needs_background": "light"
     },
     "output_type": "display_data"
    }
   ],
   "source": [
    "# Assuming you have the lengths of train and test datasets\n",
    "train_length = len(data_train)\n",
    "test_length = len(data_test)\n",
    "\n",
    "# Data preparation\n",
    "labels = ['Train', 'Test']\n",
    "sizes = [train_length, test_length]\n",
    "\n",
    "# Create subplots in a 1x2 grid\n",
    "fig, axs = plt.subplots(1, 2, figsize=(12, 6))\n",
    "\n",
    "# Plotting the pie chart\n",
    "axs[0].pie(sizes, labels=labels, autopct='%1.1f%%', startangle=90, colors=['#66b3ff', '#99ff99'])\n",
    "axs[0].axis('equal')  # Equal aspect ratio ensures that pie is drawn as a circle.\n",
    "axs[0].set_title('Train-Test Ratio (Pie Chart)')\n",
    "\n",
    "# Plotting the bar chart\n",
    "sns.set(style='whitegrid')\n",
    "sns.barplot(x=labels, y=sizes, palette='viridis', ax=axs[1])\n",
    "axs[1].set_title('Train-Test Ratio (Bar Chart)')\n",
    "\n",
    "# Adjust layout for better visualization\n",
    "plt.tight_layout()\n",
    "\n",
    "# Show the plots\n",
    "plt.show()\n"
   ]
  },
  {
   "cell_type": "markdown",
   "metadata": {
    "id": "tO5N-jcznpdS"
   },
   "source": [
    "## <font color=\"orange\">1.3 Handle missing value</font>\n",
    "\n",
    "<h4>1-removing 2-filling(imputation)</h4>"
   ]
  },
  {
   "cell_type": "code",
   "execution_count": 12,
   "metadata": {
    "colab": {
     "base_uri": "https://localhost:8080/",
     "height": 206
    },
    "execution": {
     "iopub.execute_input": "2023-12-22T22:07:59.837706Z",
     "iopub.status.busy": "2023-12-22T22:07:59.837319Z",
     "iopub.status.idle": "2023-12-22T22:07:59.847922Z",
     "shell.execute_reply": "2023-12-22T22:07:59.846726Z",
     "shell.execute_reply.started": "2023-12-22T22:07:59.837684Z"
    },
    "id": "-GmoRJGHnpdS",
    "outputId": "87927928-cd22-4225-f40b-a870e2918cc5"
   },
   "outputs": [
    {
     "data": {
      "text/html": [
       "<div>\n",
       "<style scoped>\n",
       "    .dataframe tbody tr th:only-of-type {\n",
       "        vertical-align: middle;\n",
       "    }\n",
       "\n",
       "    .dataframe tbody tr th {\n",
       "        vertical-align: top;\n",
       "    }\n",
       "\n",
       "    .dataframe thead th {\n",
       "        text-align: right;\n",
       "    }\n",
       "</style>\n",
       "<table border=\"1\" class=\"dataframe\">\n",
       "  <thead>\n",
       "    <tr style=\"text-align: right;\">\n",
       "      <th></th>\n",
       "      <th>title</th>\n",
       "      <th>text</th>\n",
       "      <th>label</th>\n",
       "    </tr>\n",
       "  </thead>\n",
       "  <tbody>\n",
       "    <tr>\n",
       "      <th>0</th>\n",
       "      <td>House Dem Aide: We Didn’t Even See Comey’s Let...</td>\n",
       "      <td>House Dem Aide: We Didn’t Even See Comey’s Let...</td>\n",
       "      <td>1</td>\n",
       "    </tr>\n",
       "    <tr>\n",
       "      <th>1</th>\n",
       "      <td>FLYNN: Hillary Clinton, Big Woman on Campus - ...</td>\n",
       "      <td>Ever get the feeling your life circles the rou...</td>\n",
       "      <td>0</td>\n",
       "    </tr>\n",
       "    <tr>\n",
       "      <th>2</th>\n",
       "      <td>Why the Truth Might Get You Fired</td>\n",
       "      <td>Why the Truth Might Get You Fired October 29, ...</td>\n",
       "      <td>1</td>\n",
       "    </tr>\n",
       "    <tr>\n",
       "      <th>3</th>\n",
       "      <td>15 Civilians Killed In Single US Airstrike Hav...</td>\n",
       "      <td>Videos 15 Civilians Killed In Single US Airstr...</td>\n",
       "      <td>1</td>\n",
       "    </tr>\n",
       "    <tr>\n",
       "      <th>4</th>\n",
       "      <td>Iranian woman jailed for fictional unpublished...</td>\n",
       "      <td>Print \\nAn Iranian woman has been sentenced to...</td>\n",
       "      <td>1</td>\n",
       "    </tr>\n",
       "  </tbody>\n",
       "</table>\n",
       "</div>"
      ],
      "text/plain": [
       "                                               title  \\\n",
       "0  House Dem Aide: We Didn’t Even See Comey’s Let...   \n",
       "1  FLYNN: Hillary Clinton, Big Woman on Campus - ...   \n",
       "2                  Why the Truth Might Get You Fired   \n",
       "3  15 Civilians Killed In Single US Airstrike Hav...   \n",
       "4  Iranian woman jailed for fictional unpublished...   \n",
       "\n",
       "                                                text  label  \n",
       "0  House Dem Aide: We Didn’t Even See Comey’s Let...      1  \n",
       "1  Ever get the feeling your life circles the rou...      0  \n",
       "2  Why the Truth Might Get You Fired October 29, ...      1  \n",
       "3  Videos 15 Civilians Killed In Single US Airstr...      1  \n",
       "4  Print \\nAn Iranian woman has been sentenced to...      1  "
      ]
     },
     "execution_count": 12,
     "metadata": {},
     "output_type": "execute_result"
    }
   ],
   "source": [
    "# Drop columns (id,author) in data\n",
    "new_data_train=data_train.drop(columns=['id','author'])\n",
    "new_data_train.head()"
   ]
  },
  {
   "cell_type": "code",
   "execution_count": 13,
   "metadata": {
    "colab": {
     "base_uri": "https://localhost:8080/",
     "height": 206
    },
    "execution": {
     "iopub.execute_input": "2023-12-22T22:07:59.851650Z",
     "iopub.status.busy": "2023-12-22T22:07:59.850597Z",
     "iopub.status.idle": "2023-12-22T22:07:59.863699Z",
     "shell.execute_reply": "2023-12-22T22:07:59.862689Z",
     "shell.execute_reply.started": "2023-12-22T22:07:59.851584Z"
    },
    "id": "s3a1ZD_vnpdT",
    "outputId": "ecee08f5-1298-4637-bc99-6f0e1dac20c8",
    "scrolled": true
   },
   "outputs": [
    {
     "data": {
      "text/html": [
       "<div>\n",
       "<style scoped>\n",
       "    .dataframe tbody tr th:only-of-type {\n",
       "        vertical-align: middle;\n",
       "    }\n",
       "\n",
       "    .dataframe tbody tr th {\n",
       "        vertical-align: top;\n",
       "    }\n",
       "\n",
       "    .dataframe thead th {\n",
       "        text-align: right;\n",
       "    }\n",
       "</style>\n",
       "<table border=\"1\" class=\"dataframe\">\n",
       "  <thead>\n",
       "    <tr style=\"text-align: right;\">\n",
       "      <th></th>\n",
       "      <th>title</th>\n",
       "      <th>text</th>\n",
       "    </tr>\n",
       "  </thead>\n",
       "  <tbody>\n",
       "    <tr>\n",
       "      <th>0</th>\n",
       "      <td>Specter of Trump Loosens Tongues, if Not Purse...</td>\n",
       "      <td>PALO ALTO, Calif.  —   After years of scorning...</td>\n",
       "    </tr>\n",
       "    <tr>\n",
       "      <th>1</th>\n",
       "      <td>Russian warships ready to strike terrorists ne...</td>\n",
       "      <td>Russian warships ready to strike terrorists ne...</td>\n",
       "    </tr>\n",
       "    <tr>\n",
       "      <th>2</th>\n",
       "      <td>#NoDAPL: Native American Leaders Vow to Stay A...</td>\n",
       "      <td>Videos #NoDAPL: Native American Leaders Vow to...</td>\n",
       "    </tr>\n",
       "    <tr>\n",
       "      <th>3</th>\n",
       "      <td>Tim Tebow Will Attempt Another Comeback, This ...</td>\n",
       "      <td>If at first you don’t succeed, try a different...</td>\n",
       "    </tr>\n",
       "    <tr>\n",
       "      <th>4</th>\n",
       "      <td>Keiser Report: Meme Wars (E995)</td>\n",
       "      <td>42 mins ago 1 Views 0 Comments 0 Likes 'For th...</td>\n",
       "    </tr>\n",
       "  </tbody>\n",
       "</table>\n",
       "</div>"
      ],
      "text/plain": [
       "                                               title  \\\n",
       "0  Specter of Trump Loosens Tongues, if Not Purse...   \n",
       "1  Russian warships ready to strike terrorists ne...   \n",
       "2  #NoDAPL: Native American Leaders Vow to Stay A...   \n",
       "3  Tim Tebow Will Attempt Another Comeback, This ...   \n",
       "4                    Keiser Report: Meme Wars (E995)   \n",
       "\n",
       "                                                text  \n",
       "0  PALO ALTO, Calif.  —   After years of scorning...  \n",
       "1  Russian warships ready to strike terrorists ne...  \n",
       "2  Videos #NoDAPL: Native American Leaders Vow to...  \n",
       "3  If at first you don’t succeed, try a different...  \n",
       "4  42 mins ago 1 Views 0 Comments 0 Likes 'For th...  "
      ]
     },
     "execution_count": 13,
     "metadata": {},
     "output_type": "execute_result"
    }
   ],
   "source": [
    "# drop columns (id,author) in test\n",
    "new_data_test=data_test.drop(columns=['id','author'])\n",
    "new_data_test.head()"
   ]
  },
  {
   "cell_type": "code",
   "execution_count": 14,
   "metadata": {
    "colab": {
     "base_uri": "https://localhost:8080/",
     "height": 1000
    },
    "execution": {
     "iopub.execute_input": "2023-12-22T22:07:59.865136Z",
     "iopub.status.busy": "2023-12-22T22:07:59.864886Z",
     "iopub.status.idle": "2023-12-22T22:07:59.884075Z",
     "shell.execute_reply": "2023-12-22T22:07:59.882984Z",
     "shell.execute_reply.started": "2023-12-22T22:07:59.865110Z"
    },
    "id": "VS3Q70y7npdT",
    "outputId": "55cca274-afcb-453c-e4af-f763cd33920d"
   },
   "outputs": [
    {
     "data": {
      "text/html": [
       "<div>\n",
       "<style scoped>\n",
       "    .dataframe tbody tr th:only-of-type {\n",
       "        vertical-align: middle;\n",
       "    }\n",
       "\n",
       "    .dataframe tbody tr th {\n",
       "        vertical-align: top;\n",
       "    }\n",
       "\n",
       "    .dataframe thead th {\n",
       "        text-align: right;\n",
       "    }\n",
       "</style>\n",
       "<table border=\"1\" class=\"dataframe\">\n",
       "  <thead>\n",
       "    <tr style=\"text-align: right;\">\n",
       "      <th></th>\n",
       "      <th>title</th>\n",
       "      <th>text</th>\n",
       "      <th>label</th>\n",
       "    </tr>\n",
       "  </thead>\n",
       "  <tbody>\n",
       "    <tr>\n",
       "      <th>142</th>\n",
       "      <td>Gorafi Magazine : Entretien exclusif avec Bara...</td>\n",
       "      <td>NaN</td>\n",
       "      <td>1</td>\n",
       "    </tr>\n",
       "    <tr>\n",
       "      <th>573</th>\n",
       "      <td>Le top des recherches Google passe en top des ...</td>\n",
       "      <td>NaN</td>\n",
       "      <td>1</td>\n",
       "    </tr>\n",
       "    <tr>\n",
       "      <th>1200</th>\n",
       "      <td>La Corée du Nord annonce avoir envoyé un missi...</td>\n",
       "      <td>NaN</td>\n",
       "      <td>1</td>\n",
       "    </tr>\n",
       "    <tr>\n",
       "      <th>1911</th>\n",
       "      <td>Grand-Prix du Brésil – Romain Grosjean obtient...</td>\n",
       "      <td>NaN</td>\n",
       "      <td>1</td>\n",
       "    </tr>\n",
       "    <tr>\n",
       "      <th>2148</th>\n",
       "      <td>Gorafi Magazine: Barack Obama « Je vous ai déj...</td>\n",
       "      <td>NaN</td>\n",
       "      <td>1</td>\n",
       "    </tr>\n",
       "    <tr>\n",
       "      <th>2169</th>\n",
       "      <td>#NDDL: Pour fêter l’autorisation des travaux, ...</td>\n",
       "      <td>NaN</td>\n",
       "      <td>1</td>\n",
       "    </tr>\n",
       "    <tr>\n",
       "      <th>2793</th>\n",
       "      <td>«Pourquoi je suis candidat à la présidentielle...</td>\n",
       "      <td>NaN</td>\n",
       "      <td>1</td>\n",
       "    </tr>\n",
       "    <tr>\n",
       "      <th>3329</th>\n",
       "      <td>GuinessBook : 100 millions d’Américains batten...</td>\n",
       "      <td>NaN</td>\n",
       "      <td>1</td>\n",
       "    </tr>\n",
       "    <tr>\n",
       "      <th>3729</th>\n",
       "      <td>Les Américains ne sont plus qu’à quelques heur...</td>\n",
       "      <td>NaN</td>\n",
       "      <td>1</td>\n",
       "    </tr>\n",
       "    <tr>\n",
       "      <th>4288</th>\n",
       "      <td>Hillary Clinton en 5 dates &gt;&gt; Le Gorafi</td>\n",
       "      <td>NaN</td>\n",
       "      <td>1</td>\n",
       "    </tr>\n",
       "    <tr>\n",
       "      <th>4358</th>\n",
       "      <td>Ne supportant plus l’ambiance de la campagne é...</td>\n",
       "      <td>NaN</td>\n",
       "      <td>1</td>\n",
       "    </tr>\n",
       "    <tr>\n",
       "      <th>5717</th>\n",
       "      <td>SPA : Enfermé depuis trois jours dans une cage...</td>\n",
       "      <td>NaN</td>\n",
       "      <td>1</td>\n",
       "    </tr>\n",
       "    <tr>\n",
       "      <th>6215</th>\n",
       "      <td>New-York – Le lâcher de confettis prévu à Time...</td>\n",
       "      <td>NaN</td>\n",
       "      <td>1</td>\n",
       "    </tr>\n",
       "    <tr>\n",
       "      <th>6680</th>\n",
       "      <td>Débat Primaire de la Droite : les Français pas...</td>\n",
       "      <td>NaN</td>\n",
       "      <td>1</td>\n",
       "    </tr>\n",
       "    <tr>\n",
       "      <th>8649</th>\n",
       "      <td>Donald Trump s’excuse pour toutes les minorité...</td>\n",
       "      <td>NaN</td>\n",
       "      <td>1</td>\n",
       "    </tr>\n",
       "    <tr>\n",
       "      <th>8908</th>\n",
       "      <td>“Notre batal a coulé” par l’homme qui fait des...</td>\n",
       "      <td>NaN</td>\n",
       "      <td>1</td>\n",
       "    </tr>\n",
       "    <tr>\n",
       "      <th>8922</th>\n",
       "      <td>La Trump Tower cambriolée – les voleurs seraie...</td>\n",
       "      <td>NaN</td>\n",
       "      <td>1</td>\n",
       "    </tr>\n",
       "    <tr>\n",
       "      <th>9350</th>\n",
       "      <td>La Russie a profité de l’élection américaine p...</td>\n",
       "      <td>NaN</td>\n",
       "      <td>1</td>\n",
       "    </tr>\n",
       "    <tr>\n",
       "      <th>9446</th>\n",
       "      <td>Trop essoufflé après avoir cherché ses affaire...</td>\n",
       "      <td>NaN</td>\n",
       "      <td>1</td>\n",
       "    </tr>\n",
       "    <tr>\n",
       "      <th>9454</th>\n",
       "      <td>Il saoule tout le monde avec son analyse polit...</td>\n",
       "      <td>NaN</td>\n",
       "      <td>1</td>\n",
       "    </tr>\n",
       "    <tr>\n",
       "      <th>9524</th>\n",
       "      <td>Elections US : les premières estimations donne...</td>\n",
       "      <td>NaN</td>\n",
       "      <td>1</td>\n",
       "    </tr>\n",
       "    <tr>\n",
       "      <th>10466</th>\n",
       "      <td>Sur Twitter, Donald Trump se félicite d’avoir ...</td>\n",
       "      <td>NaN</td>\n",
       "      <td>1</td>\n",
       "    </tr>\n",
       "    <tr>\n",
       "      <th>10867</th>\n",
       "      <td>Live Soirée présidentielle US 2016 &gt;&gt; Le Gorafi</td>\n",
       "      <td>NaN</td>\n",
       "      <td>1</td>\n",
       "    </tr>\n",
       "    <tr>\n",
       "      <th>11450</th>\n",
       "      <td>Vladimir Poutine est élu 45e Président des Eta...</td>\n",
       "      <td>NaN</td>\n",
       "      <td>1</td>\n",
       "    </tr>\n",
       "    <tr>\n",
       "      <th>11486</th>\n",
       "      <td>Pour booster les ventes, Dassault offre un por...</td>\n",
       "      <td>NaN</td>\n",
       "      <td>1</td>\n",
       "    </tr>\n",
       "    <tr>\n",
       "      <th>12056</th>\n",
       "      <td>Après le succès de « Mariés au premier regard ...</td>\n",
       "      <td>NaN</td>\n",
       "      <td>1</td>\n",
       "    </tr>\n",
       "    <tr>\n",
       "      <th>12460</th>\n",
       "      <td>La voyante lisait l’avenir dans les cartes ble...</td>\n",
       "      <td>NaN</td>\n",
       "      <td>1</td>\n",
       "    </tr>\n",
       "    <tr>\n",
       "      <th>12835</th>\n",
       "      <td>[Vidéo] Découvrez le Gorafi de l’Année 2017 &gt;&gt;...</td>\n",
       "      <td>NaN</td>\n",
       "      <td>1</td>\n",
       "    </tr>\n",
       "    <tr>\n",
       "      <th>13020</th>\n",
       "      <td>Horoscope du 21 novembre 2016 &gt;&gt; Le Gorafi</td>\n",
       "      <td>NaN</td>\n",
       "      <td>1</td>\n",
       "    </tr>\n",
       "    <tr>\n",
       "      <th>13107</th>\n",
       "      <td>Les gardes-frontières se mettent en alerte pou...</td>\n",
       "      <td>NaN</td>\n",
       "      <td>1</td>\n",
       "    </tr>\n",
       "    <tr>\n",
       "      <th>13915</th>\n",
       "      <td>Elle met en fuite un braqueur en lui jetant de...</td>\n",
       "      <td>NaN</td>\n",
       "      <td>1</td>\n",
       "    </tr>\n",
       "    <tr>\n",
       "      <th>14499</th>\n",
       "      <td>Primaire – François Fillon se désiste au profi...</td>\n",
       "      <td>NaN</td>\n",
       "      <td>1</td>\n",
       "    </tr>\n",
       "    <tr>\n",
       "      <th>14933</th>\n",
       "      <td>La sortie du dernier livre inédit du Gorafi éc...</td>\n",
       "      <td>NaN</td>\n",
       "      <td>1</td>\n",
       "    </tr>\n",
       "    <tr>\n",
       "      <th>16126</th>\n",
       "      <td>Vendée Globe – Un skipper fait demi-tour après...</td>\n",
       "      <td>NaN</td>\n",
       "      <td>1</td>\n",
       "    </tr>\n",
       "    <tr>\n",
       "      <th>18479</th>\n",
       "      <td>Il se fait cryogéniser dans l’espoir de voir u...</td>\n",
       "      <td>NaN</td>\n",
       "      <td>1</td>\n",
       "    </tr>\n",
       "    <tr>\n",
       "      <th>18757</th>\n",
       "      <td>Donald Trump en 5 dates &gt;&gt; Le Gorafi</td>\n",
       "      <td>NaN</td>\n",
       "      <td>1</td>\n",
       "    </tr>\n",
       "    <tr>\n",
       "      <th>19157</th>\n",
       "      <td>110% des Américains assurent qu’ils continuero...</td>\n",
       "      <td>NaN</td>\n",
       "      <td>1</td>\n",
       "    </tr>\n",
       "    <tr>\n",
       "      <th>19227</th>\n",
       "      <td>Des millions d’Américains recherchent massivem...</td>\n",
       "      <td>NaN</td>\n",
       "      <td>1</td>\n",
       "    </tr>\n",
       "    <tr>\n",
       "      <th>19388</th>\n",
       "      <td>Heureux et souriant, il a la chance de toujour...</td>\n",
       "      <td>NaN</td>\n",
       "      <td>1</td>\n",
       "    </tr>\n",
       "  </tbody>\n",
       "</table>\n",
       "</div>"
      ],
      "text/plain": [
       "                                                   title text  label\n",
       "142    Gorafi Magazine : Entretien exclusif avec Bara...  NaN      1\n",
       "573    Le top des recherches Google passe en top des ...  NaN      1\n",
       "1200   La Corée du Nord annonce avoir envoyé un missi...  NaN      1\n",
       "1911   Grand-Prix du Brésil – Romain Grosjean obtient...  NaN      1\n",
       "2148   Gorafi Magazine: Barack Obama « Je vous ai déj...  NaN      1\n",
       "2169   #NDDL: Pour fêter l’autorisation des travaux, ...  NaN      1\n",
       "2793   «Pourquoi je suis candidat à la présidentielle...  NaN      1\n",
       "3329   GuinessBook : 100 millions d’Américains batten...  NaN      1\n",
       "3729   Les Américains ne sont plus qu’à quelques heur...  NaN      1\n",
       "4288             Hillary Clinton en 5 dates >> Le Gorafi  NaN      1\n",
       "4358   Ne supportant plus l’ambiance de la campagne é...  NaN      1\n",
       "5717   SPA : Enfermé depuis trois jours dans une cage...  NaN      1\n",
       "6215   New-York – Le lâcher de confettis prévu à Time...  NaN      1\n",
       "6680   Débat Primaire de la Droite : les Français pas...  NaN      1\n",
       "8649   Donald Trump s’excuse pour toutes les minorité...  NaN      1\n",
       "8908   “Notre batal a coulé” par l’homme qui fait des...  NaN      1\n",
       "8922   La Trump Tower cambriolée – les voleurs seraie...  NaN      1\n",
       "9350   La Russie a profité de l’élection américaine p...  NaN      1\n",
       "9446   Trop essoufflé après avoir cherché ses affaire...  NaN      1\n",
       "9454   Il saoule tout le monde avec son analyse polit...  NaN      1\n",
       "9524   Elections US : les premières estimations donne...  NaN      1\n",
       "10466  Sur Twitter, Donald Trump se félicite d’avoir ...  NaN      1\n",
       "10867    Live Soirée présidentielle US 2016 >> Le Gorafi  NaN      1\n",
       "11450  Vladimir Poutine est élu 45e Président des Eta...  NaN      1\n",
       "11486  Pour booster les ventes, Dassault offre un por...  NaN      1\n",
       "12056  Après le succès de « Mariés au premier regard ...  NaN      1\n",
       "12460  La voyante lisait l’avenir dans les cartes ble...  NaN      1\n",
       "12835  [Vidéo] Découvrez le Gorafi de l’Année 2017 >>...  NaN      1\n",
       "13020         Horoscope du 21 novembre 2016 >> Le Gorafi  NaN      1\n",
       "13107  Les gardes-frontières se mettent en alerte pou...  NaN      1\n",
       "13915  Elle met en fuite un braqueur en lui jetant de...  NaN      1\n",
       "14499  Primaire – François Fillon se désiste au profi...  NaN      1\n",
       "14933  La sortie du dernier livre inédit du Gorafi éc...  NaN      1\n",
       "16126  Vendée Globe – Un skipper fait demi-tour après...  NaN      1\n",
       "18479  Il se fait cryogéniser dans l’espoir de voir u...  NaN      1\n",
       "18757               Donald Trump en 5 dates >> Le Gorafi  NaN      1\n",
       "19157  110% des Américains assurent qu’ils continuero...  NaN      1\n",
       "19227  Des millions d’Américains recherchent massivem...  NaN      1\n",
       "19388  Heureux et souriant, il a la chance de toujour...  NaN      1"
      ]
     },
     "execution_count": 14,
     "metadata": {},
     "output_type": "execute_result"
    }
   ],
   "source": [
    "new_data_train[new_data_train['text'].isnull()]"
   ]
  },
  {
   "cell_type": "code",
   "execution_count": 15,
   "metadata": {
    "colab": {
     "base_uri": "https://localhost:8080/",
     "height": 269
    },
    "execution": {
     "iopub.execute_input": "2023-12-22T22:07:59.886018Z",
     "iopub.status.busy": "2023-12-22T22:07:59.885707Z",
     "iopub.status.idle": "2023-12-22T22:07:59.898103Z",
     "shell.execute_reply": "2023-12-22T22:07:59.897206Z",
     "shell.execute_reply.started": "2023-12-22T22:07:59.885989Z"
    },
    "id": "5gzLULfnnpdT",
    "outputId": "acab46ad-f84a-4117-be94-0002f54f1e2a"
   },
   "outputs": [
    {
     "data": {
      "text/html": [
       "<div>\n",
       "<style scoped>\n",
       "    .dataframe tbody tr th:only-of-type {\n",
       "        vertical-align: middle;\n",
       "    }\n",
       "\n",
       "    .dataframe tbody tr th {\n",
       "        vertical-align: top;\n",
       "    }\n",
       "\n",
       "    .dataframe thead th {\n",
       "        text-align: right;\n",
       "    }\n",
       "</style>\n",
       "<table border=\"1\" class=\"dataframe\">\n",
       "  <thead>\n",
       "    <tr style=\"text-align: right;\">\n",
       "      <th></th>\n",
       "      <th>title</th>\n",
       "      <th>text</th>\n",
       "    </tr>\n",
       "  </thead>\n",
       "  <tbody>\n",
       "    <tr>\n",
       "      <th>589</th>\n",
       "      <td>[Vidéo] Que trouve-t-on dans « Le Gorafi de l’...</td>\n",
       "      <td>NaN</td>\n",
       "    </tr>\n",
       "    <tr>\n",
       "      <th>626</th>\n",
       "      <td>Nous avons comparé les programmes d’Alain Jupp...</td>\n",
       "      <td>NaN</td>\n",
       "    </tr>\n",
       "    <tr>\n",
       "      <th>978</th>\n",
       "      <td>« J’y crois encore ! » par Alain Juppé en trai...</td>\n",
       "      <td>NaN</td>\n",
       "    </tr>\n",
       "    <tr>\n",
       "      <th>2257</th>\n",
       "      <td>Horoscope du 14 novembre 2016 &gt;&gt; Le Gorafi</td>\n",
       "      <td>NaN</td>\n",
       "    </tr>\n",
       "    <tr>\n",
       "      <th>2892</th>\n",
       "      <td>Une fan demande le remboursement de son tatoua...</td>\n",
       "      <td>NaN</td>\n",
       "    </tr>\n",
       "    <tr>\n",
       "      <th>4736</th>\n",
       "      <td>Révélations – François Fillon serait de droite...</td>\n",
       "      <td>NaN</td>\n",
       "    </tr>\n",
       "    <tr>\n",
       "      <th>5092</th>\n",
       "      <td>Des traces de vin rouge détectées dans le Beau...</td>\n",
       "      <td>NaN</td>\n",
       "    </tr>\n",
       "  </tbody>\n",
       "</table>\n",
       "</div>"
      ],
      "text/plain": [
       "                                                  title text\n",
       "589   [Vidéo] Que trouve-t-on dans « Le Gorafi de l’...  NaN\n",
       "626   Nous avons comparé les programmes d’Alain Jupp...  NaN\n",
       "978   « J’y crois encore ! » par Alain Juppé en trai...  NaN\n",
       "2257         Horoscope du 14 novembre 2016 >> Le Gorafi  NaN\n",
       "2892  Une fan demande le remboursement de son tatoua...  NaN\n",
       "4736  Révélations – François Fillon serait de droite...  NaN\n",
       "5092  Des traces de vin rouge détectées dans le Beau...  NaN"
      ]
     },
     "execution_count": 15,
     "metadata": {},
     "output_type": "execute_result"
    }
   ],
   "source": [
    "new_data_test[new_data_test['text'].isnull()]"
   ]
  },
  {
   "cell_type": "markdown",
   "metadata": {
    "id": "AaXi8A8inpdU"
   },
   "source": [
    "### <font color=\"orange\">Drop rows that contain nan values in column named text </font>"
   ]
  },
  {
   "cell_type": "code",
   "execution_count": 16,
   "metadata": {
    "colab": {
     "base_uri": "https://localhost:8080/"
    },
    "execution": {
     "iopub.execute_input": "2023-12-22T22:07:59.899800Z",
     "iopub.status.busy": "2023-12-22T22:07:59.899488Z",
     "iopub.status.idle": "2023-12-22T22:07:59.921576Z",
     "shell.execute_reply": "2023-12-22T22:07:59.920094Z",
     "shell.execute_reply.started": "2023-12-22T22:07:59.899777Z"
    },
    "id": "84hphIadnpdU",
    "outputId": "ef0ce06f-f985-433f-a970-64e4a558b53b"
   },
   "outputs": [
    {
     "name": "stdout",
     "output_type": "stream",
     "text": [
      "Before Remove: 20800, after Remove: 20761\n",
      "title    558\n",
      "text       0\n",
      "label      0\n",
      "dtype: int64\n"
     ]
    }
   ],
   "source": [
    "new_data_train1 = new_data_train.dropna(subset=['text'])\n",
    "new_data_train1[new_data_train1['text'].isnull()]\n",
    "print(f\"Before Remove: {len(new_data_train)}, after Remove: {len(new_data_train1)}\")\n",
    "print(new_data_train1.isnull().sum())"
   ]
  },
  {
   "cell_type": "markdown",
   "metadata": {
    "id": "8CqMxmqJnpdU"
   },
   "source": [
    "<font color=\"red\">`!` we need title, so we convert nan title to No Title</font>"
   ]
  },
  {
   "cell_type": "code",
   "execution_count": 17,
   "metadata": {
    "colab": {
     "base_uri": "https://localhost:8080/"
    },
    "execution": {
     "iopub.execute_input": "2023-12-22T22:07:59.923379Z",
     "iopub.status.busy": "2023-12-22T22:07:59.923044Z",
     "iopub.status.idle": "2023-12-22T22:07:59.935970Z",
     "shell.execute_reply": "2023-12-22T22:07:59.934850Z",
     "shell.execute_reply.started": "2023-12-22T22:07:59.923353Z"
    },
    "id": "Si18D9C1npdU",
    "outputId": "6a9d04e6-c88c-4d79-e6c9-b8504e71f7ae"
   },
   "outputs": [
    {
     "name": "stdout",
     "output_type": "stream",
     "text": [
      "Before Remove: 5200, after Remove: 5193\n",
      "title    122\n",
      "text       0\n",
      "dtype: int64\n"
     ]
    }
   ],
   "source": [
    "new_data_test1=new_data_test.dropna(subset=['text'])\n",
    "new_data_test1[new_data_test1['text'].isnull()]\n",
    "print(f\"Before Remove: {len(new_data_test)}, after Remove: {len(new_data_test1)}\")\n",
    "print(new_data_test1.isnull().sum())"
   ]
  },
  {
   "cell_type": "code",
   "execution_count": 18,
   "metadata": {
    "colab": {
     "base_uri": "https://localhost:8080/"
    },
    "execution": {
     "iopub.execute_input": "2023-12-22T22:07:59.939367Z",
     "iopub.status.busy": "2023-12-22T22:07:59.937196Z",
     "iopub.status.idle": "2023-12-22T22:07:59.950382Z",
     "shell.execute_reply": "2023-12-22T22:07:59.949186Z",
     "shell.execute_reply.started": "2023-12-22T22:07:59.939340Z"
    },
    "id": "je0F7MTLnpdV",
    "outputId": "cc78a68f-7823-41a7-a345-2f883b98aea4"
   },
   "outputs": [
    {
     "name": "stderr",
     "output_type": "stream",
     "text": [
      "E:\\anconda\\envs\\machine\\lib\\site-packages\\ipykernel_launcher.py:2: SettingWithCopyWarning: \n",
      "A value is trying to be set on a copy of a slice from a DataFrame.\n",
      "Try using .loc[row_indexer,col_indexer] = value instead\n",
      "\n",
      "See the caveats in the documentation: https://pandas.pydata.org/pandas-docs/stable/user_guide/indexing.html#returning-a-view-versus-a-copy\n",
      "  \n"
     ]
    }
   ],
   "source": [
    "def fill_data(data):\n",
    "    data[\"title\"] = data[\"title\"].fillna(\"No Title\")\n",
    "    return data\n",
    "\n",
    "new_data_train2 = fill_data(new_data_train1)\n",
    "new_data_test2 = fill_data(new_data_test1)"
   ]
  },
  {
   "cell_type": "code",
   "execution_count": 19,
   "metadata": {
    "colab": {
     "base_uri": "https://localhost:8080/",
     "height": 53
    },
    "execution": {
     "iopub.execute_input": "2023-12-22T22:07:59.952170Z",
     "iopub.status.busy": "2023-12-22T22:07:59.951713Z",
     "iopub.status.idle": "2023-12-22T22:07:59.963181Z",
     "shell.execute_reply": "2023-12-22T22:07:59.962077Z",
     "shell.execute_reply.started": "2023-12-22T22:07:59.952139Z"
    },
    "id": "t6cBs_6wnpdV",
    "outputId": "4488eda3-ee4b-4eba-f549-f12ec7b80c6d"
   },
   "outputs": [
    {
     "data": {
      "text/html": [
       "<div>\n",
       "<style scoped>\n",
       "    .dataframe tbody tr th:only-of-type {\n",
       "        vertical-align: middle;\n",
       "    }\n",
       "\n",
       "    .dataframe tbody tr th {\n",
       "        vertical-align: top;\n",
       "    }\n",
       "\n",
       "    .dataframe thead th {\n",
       "        text-align: right;\n",
       "    }\n",
       "</style>\n",
       "<table border=\"1\" class=\"dataframe\">\n",
       "  <thead>\n",
       "    <tr style=\"text-align: right;\">\n",
       "      <th></th>\n",
       "      <th>title</th>\n",
       "      <th>text</th>\n",
       "    </tr>\n",
       "  </thead>\n",
       "  <tbody>\n",
       "  </tbody>\n",
       "</table>\n",
       "</div>"
      ],
      "text/plain": [
       "Empty DataFrame\n",
       "Columns: [title, text]\n",
       "Index: []"
      ]
     },
     "execution_count": 19,
     "metadata": {},
     "output_type": "execute_result"
    }
   ],
   "source": [
    "new_data_test2[new_data_test2['title'].isnull()]"
   ]
  },
  {
   "cell_type": "code",
   "execution_count": 20,
   "metadata": {
    "colab": {
     "base_uri": "https://localhost:8080/",
     "height": 53
    },
    "execution": {
     "iopub.execute_input": "2023-12-22T22:07:59.966974Z",
     "iopub.status.busy": "2023-12-22T22:07:59.966643Z",
     "iopub.status.idle": "2023-12-22T22:07:59.977062Z",
     "shell.execute_reply": "2023-12-22T22:07:59.975945Z",
     "shell.execute_reply.started": "2023-12-22T22:07:59.966948Z"
    },
    "id": "9Ond3N7OnpdW",
    "outputId": "789d3714-8602-4426-b18e-21db62213e61"
   },
   "outputs": [
    {
     "data": {
      "text/html": [
       "<div>\n",
       "<style scoped>\n",
       "    .dataframe tbody tr th:only-of-type {\n",
       "        vertical-align: middle;\n",
       "    }\n",
       "\n",
       "    .dataframe tbody tr th {\n",
       "        vertical-align: top;\n",
       "    }\n",
       "\n",
       "    .dataframe thead th {\n",
       "        text-align: right;\n",
       "    }\n",
       "</style>\n",
       "<table border=\"1\" class=\"dataframe\">\n",
       "  <thead>\n",
       "    <tr style=\"text-align: right;\">\n",
       "      <th></th>\n",
       "      <th>title</th>\n",
       "      <th>text</th>\n",
       "      <th>label</th>\n",
       "    </tr>\n",
       "  </thead>\n",
       "  <tbody>\n",
       "  </tbody>\n",
       "</table>\n",
       "</div>"
      ],
      "text/plain": [
       "Empty DataFrame\n",
       "Columns: [title, text, label]\n",
       "Index: []"
      ]
     },
     "execution_count": 20,
     "metadata": {},
     "output_type": "execute_result"
    }
   ],
   "source": [
    "new_data_train2[new_data_train2['title'].isnull()]"
   ]
  },
  {
   "cell_type": "code",
   "execution_count": 21,
   "metadata": {
    "colab": {
     "base_uri": "https://localhost:8080/",
     "height": 206
    },
    "execution": {
     "iopub.execute_input": "2023-12-22T22:07:59.978711Z",
     "iopub.status.busy": "2023-12-22T22:07:59.978398Z",
     "iopub.status.idle": "2023-12-22T22:07:59.991035Z",
     "shell.execute_reply": "2023-12-22T22:07:59.990268Z",
     "shell.execute_reply.started": "2023-12-22T22:07:59.978678Z"
    },
    "id": "KXgiNhWTnpdW",
    "outputId": "9c85afb7-82f7-4934-d333-c19587e79d21"
   },
   "outputs": [
    {
     "data": {
      "text/html": [
       "<div>\n",
       "<style scoped>\n",
       "    .dataframe tbody tr th:only-of-type {\n",
       "        vertical-align: middle;\n",
       "    }\n",
       "\n",
       "    .dataframe tbody tr th {\n",
       "        vertical-align: top;\n",
       "    }\n",
       "\n",
       "    .dataframe thead th {\n",
       "        text-align: right;\n",
       "    }\n",
       "</style>\n",
       "<table border=\"1\" class=\"dataframe\">\n",
       "  <thead>\n",
       "    <tr style=\"text-align: right;\">\n",
       "      <th></th>\n",
       "      <th>title</th>\n",
       "      <th>text</th>\n",
       "      <th>label</th>\n",
       "    </tr>\n",
       "  </thead>\n",
       "  <tbody>\n",
       "    <tr>\n",
       "      <th>0</th>\n",
       "      <td>House Dem Aide: We Didn’t Even See Comey’s Let...</td>\n",
       "      <td>House Dem Aide: We Didn’t Even See Comey’s Let...</td>\n",
       "      <td>1</td>\n",
       "    </tr>\n",
       "    <tr>\n",
       "      <th>1</th>\n",
       "      <td>FLYNN: Hillary Clinton, Big Woman on Campus - ...</td>\n",
       "      <td>Ever get the feeling your life circles the rou...</td>\n",
       "      <td>0</td>\n",
       "    </tr>\n",
       "    <tr>\n",
       "      <th>2</th>\n",
       "      <td>Why the Truth Might Get You Fired</td>\n",
       "      <td>Why the Truth Might Get You Fired October 29, ...</td>\n",
       "      <td>1</td>\n",
       "    </tr>\n",
       "    <tr>\n",
       "      <th>3</th>\n",
       "      <td>15 Civilians Killed In Single US Airstrike Hav...</td>\n",
       "      <td>Videos 15 Civilians Killed In Single US Airstr...</td>\n",
       "      <td>1</td>\n",
       "    </tr>\n",
       "    <tr>\n",
       "      <th>4</th>\n",
       "      <td>Iranian woman jailed for fictional unpublished...</td>\n",
       "      <td>Print \\nAn Iranian woman has been sentenced to...</td>\n",
       "      <td>1</td>\n",
       "    </tr>\n",
       "  </tbody>\n",
       "</table>\n",
       "</div>"
      ],
      "text/plain": [
       "                                               title  \\\n",
       "0  House Dem Aide: We Didn’t Even See Comey’s Let...   \n",
       "1  FLYNN: Hillary Clinton, Big Woman on Campus - ...   \n",
       "2                  Why the Truth Might Get You Fired   \n",
       "3  15 Civilians Killed In Single US Airstrike Hav...   \n",
       "4  Iranian woman jailed for fictional unpublished...   \n",
       "\n",
       "                                                text  label  \n",
       "0  House Dem Aide: We Didn’t Even See Comey’s Let...      1  \n",
       "1  Ever get the feeling your life circles the rou...      0  \n",
       "2  Why the Truth Might Get You Fired October 29, ...      1  \n",
       "3  Videos 15 Civilians Killed In Single US Airstr...      1  \n",
       "4  Print \\nAn Iranian woman has been sentenced to...      1  "
      ]
     },
     "execution_count": 21,
     "metadata": {},
     "output_type": "execute_result"
    }
   ],
   "source": [
    "new_data_train2.head()"
   ]
  },
  {
   "cell_type": "code",
   "execution_count": 22,
   "metadata": {
    "colab": {
     "base_uri": "https://localhost:8080/"
    },
    "execution": {
     "iopub.execute_input": "2023-12-22T22:07:59.992879Z",
     "iopub.status.busy": "2023-12-22T22:07:59.991924Z",
     "iopub.status.idle": "2023-12-22T22:08:00.009688Z",
     "shell.execute_reply": "2023-12-22T22:08:00.008587Z",
     "shell.execute_reply.started": "2023-12-22T22:07:59.992853Z"
    },
    "id": "nWdkArRknpdW",
    "outputId": "7014c402-65aa-4b3d-b643-b35d12090070"
   },
   "outputs": [
    {
     "data": {
      "text/plain": [
       "title    0\n",
       "text     0\n",
       "label    0\n",
       "dtype: int64"
      ]
     },
     "execution_count": 22,
     "metadata": {},
     "output_type": "execute_result"
    }
   ],
   "source": [
    "new_data_train2.isnull().sum()"
   ]
  },
  {
   "cell_type": "code",
   "execution_count": 23,
   "metadata": {
    "colab": {
     "base_uri": "https://localhost:8080/",
     "height": 206
    },
    "execution": {
     "iopub.execute_input": "2023-12-22T22:08:00.012231Z",
     "iopub.status.busy": "2023-12-22T22:08:00.011381Z",
     "iopub.status.idle": "2023-12-22T22:08:00.022472Z",
     "shell.execute_reply": "2023-12-22T22:08:00.021578Z",
     "shell.execute_reply.started": "2023-12-22T22:08:00.012177Z"
    },
    "id": "GQLGCp4_npdX",
    "outputId": "65f0fa48-dc7e-47e5-cdaf-e63b83b8a6d1"
   },
   "outputs": [
    {
     "data": {
      "text/html": [
       "<div>\n",
       "<style scoped>\n",
       "    .dataframe tbody tr th:only-of-type {\n",
       "        vertical-align: middle;\n",
       "    }\n",
       "\n",
       "    .dataframe tbody tr th {\n",
       "        vertical-align: top;\n",
       "    }\n",
       "\n",
       "    .dataframe thead th {\n",
       "        text-align: right;\n",
       "    }\n",
       "</style>\n",
       "<table border=\"1\" class=\"dataframe\">\n",
       "  <thead>\n",
       "    <tr style=\"text-align: right;\">\n",
       "      <th></th>\n",
       "      <th>title</th>\n",
       "      <th>text</th>\n",
       "    </tr>\n",
       "  </thead>\n",
       "  <tbody>\n",
       "    <tr>\n",
       "      <th>0</th>\n",
       "      <td>Specter of Trump Loosens Tongues, if Not Purse...</td>\n",
       "      <td>PALO ALTO, Calif.  —   After years of scorning...</td>\n",
       "    </tr>\n",
       "    <tr>\n",
       "      <th>1</th>\n",
       "      <td>Russian warships ready to strike terrorists ne...</td>\n",
       "      <td>Russian warships ready to strike terrorists ne...</td>\n",
       "    </tr>\n",
       "    <tr>\n",
       "      <th>2</th>\n",
       "      <td>#NoDAPL: Native American Leaders Vow to Stay A...</td>\n",
       "      <td>Videos #NoDAPL: Native American Leaders Vow to...</td>\n",
       "    </tr>\n",
       "    <tr>\n",
       "      <th>3</th>\n",
       "      <td>Tim Tebow Will Attempt Another Comeback, This ...</td>\n",
       "      <td>If at first you don’t succeed, try a different...</td>\n",
       "    </tr>\n",
       "    <tr>\n",
       "      <th>4</th>\n",
       "      <td>Keiser Report: Meme Wars (E995)</td>\n",
       "      <td>42 mins ago 1 Views 0 Comments 0 Likes 'For th...</td>\n",
       "    </tr>\n",
       "  </tbody>\n",
       "</table>\n",
       "</div>"
      ],
      "text/plain": [
       "                                               title  \\\n",
       "0  Specter of Trump Loosens Tongues, if Not Purse...   \n",
       "1  Russian warships ready to strike terrorists ne...   \n",
       "2  #NoDAPL: Native American Leaders Vow to Stay A...   \n",
       "3  Tim Tebow Will Attempt Another Comeback, This ...   \n",
       "4                    Keiser Report: Meme Wars (E995)   \n",
       "\n",
       "                                                text  \n",
       "0  PALO ALTO, Calif.  —   After years of scorning...  \n",
       "1  Russian warships ready to strike terrorists ne...  \n",
       "2  Videos #NoDAPL: Native American Leaders Vow to...  \n",
       "3  If at first you don’t succeed, try a different...  \n",
       "4  42 mins ago 1 Views 0 Comments 0 Likes 'For th...  "
      ]
     },
     "execution_count": 23,
     "metadata": {},
     "output_type": "execute_result"
    }
   ],
   "source": [
    "new_data_test2.head()"
   ]
  },
  {
   "cell_type": "code",
   "execution_count": 24,
   "metadata": {
    "colab": {
     "base_uri": "https://localhost:8080/"
    },
    "execution": {
     "iopub.execute_input": "2023-12-22T22:08:00.024337Z",
     "iopub.status.busy": "2023-12-22T22:08:00.023558Z",
     "iopub.status.idle": "2023-12-22T22:08:00.032722Z",
     "shell.execute_reply": "2023-12-22T22:08:00.031872Z",
     "shell.execute_reply.started": "2023-12-22T22:08:00.024310Z"
    },
    "id": "YnfnBaU-npdX",
    "outputId": "0c93ff39-03e8-4159-a69b-c5d6e8209c55"
   },
   "outputs": [
    {
     "data": {
      "text/plain": [
       "title    0\n",
       "text     0\n",
       "dtype: int64"
      ]
     },
     "execution_count": 24,
     "metadata": {},
     "output_type": "execute_result"
    }
   ],
   "source": [
    "new_data_test2.isnull().sum()"
   ]
  },
  {
   "cell_type": "code",
   "execution_count": 25,
   "metadata": {
    "colab": {
     "base_uri": "https://localhost:8080/"
    },
    "execution": {
     "iopub.execute_input": "2023-12-22T22:08:00.034697Z",
     "iopub.status.busy": "2023-12-22T22:08:00.034060Z",
     "iopub.status.idle": "2023-12-22T22:08:00.058980Z",
     "shell.execute_reply": "2023-12-22T22:08:00.058049Z",
     "shell.execute_reply.started": "2023-12-22T22:08:00.034667Z"
    },
    "id": "HwmavMx1npdY",
    "outputId": "a2ea1fa7-b93f-461d-f5bb-529feaf7bc02"
   },
   "outputs": [
    {
     "name": "stdout",
     "output_type": "stream",
     "text": [
      "<class 'pandas.core.frame.DataFrame'>\n",
      "Int64Index: 20761 entries, 0 to 20799\n",
      "Data columns (total 3 columns):\n",
      " #   Column  Non-Null Count  Dtype \n",
      "---  ------  --------------  ----- \n",
      " 0   title   20761 non-null  object\n",
      " 1   text    20761 non-null  object\n",
      " 2   label   20761 non-null  int64 \n",
      "dtypes: int64(1), object(2)\n",
      "memory usage: 648.8+ KB\n"
     ]
    }
   ],
   "source": [
    "new_data_train2.info()"
   ]
  },
  {
   "cell_type": "code",
   "execution_count": 26,
   "metadata": {
    "colab": {
     "base_uri": "https://localhost:8080/"
    },
    "execution": {
     "iopub.execute_input": "2023-12-22T22:08:00.060430Z",
     "iopub.status.busy": "2023-12-22T22:08:00.060017Z",
     "iopub.status.idle": "2023-12-22T22:08:00.187085Z",
     "shell.execute_reply": "2023-12-22T22:08:00.186231Z",
     "shell.execute_reply.started": "2023-12-22T22:08:00.060401Z"
    },
    "id": "Aoer_W6ynpdY",
    "outputId": "3785b268-a0d7-4de3-d6bc-76a9938072ff"
   },
   "outputs": [
    {
     "name": "stderr",
     "output_type": "stream",
     "text": [
      "E:\\anconda\\envs\\machine\\lib\\site-packages\\ipykernel_launcher.py:1: SettingWithCopyWarning: \n",
      "A value is trying to be set on a copy of a slice from a DataFrame.\n",
      "Try using .loc[row_indexer,col_indexer] = value instead\n",
      "\n",
      "See the caveats in the documentation: https://pandas.pydata.org/pandas-docs/stable/user_guide/indexing.html#returning-a-view-versus-a-copy\n",
      "  \"\"\"Entry point for launching an IPython kernel.\n",
      "E:\\anconda\\envs\\machine\\lib\\site-packages\\ipykernel_launcher.py:2: SettingWithCopyWarning: \n",
      "A value is trying to be set on a copy of a slice from a DataFrame.\n",
      "Try using .loc[row_indexer,col_indexer] = value instead\n",
      "\n",
      "See the caveats in the documentation: https://pandas.pydata.org/pandas-docs/stable/user_guide/indexing.html#returning-a-view-versus-a-copy\n",
      "  \n"
     ]
    }
   ],
   "source": [
    "new_data_train2[\"new_text\"] = new_data_train2[\"title\"] + \" \" + new_data_train2[\"text\"]\n",
    "new_data_test2[\"new_text\"] = new_data_test2[\"title\"] + \" \" + new_data_test2[\"text\"]"
   ]
  },
  {
   "cell_type": "code",
   "execution_count": 27,
   "metadata": {
    "colab": {
     "base_uri": "https://localhost:8080/",
     "height": 241
    },
    "execution": {
     "iopub.execute_input": "2023-12-22T22:08:00.188679Z",
     "iopub.status.busy": "2023-12-22T22:08:00.188332Z",
     "iopub.status.idle": "2023-12-22T22:08:00.204234Z",
     "shell.execute_reply": "2023-12-22T22:08:00.203340Z",
     "shell.execute_reply.started": "2023-12-22T22:08:00.188655Z"
    },
    "id": "9hJDnW-BnpdZ",
    "outputId": "4f047037-0bb6-4fba-82fb-548e12997ad9"
   },
   "outputs": [
    {
     "data": {
      "text/html": [
       "<div>\n",
       "<style scoped>\n",
       "    .dataframe tbody tr th:only-of-type {\n",
       "        vertical-align: middle;\n",
       "    }\n",
       "\n",
       "    .dataframe tbody tr th {\n",
       "        vertical-align: top;\n",
       "    }\n",
       "\n",
       "    .dataframe thead th {\n",
       "        text-align: right;\n",
       "    }\n",
       "</style>\n",
       "<table border=\"1\" class=\"dataframe\">\n",
       "  <thead>\n",
       "    <tr style=\"text-align: right;\">\n",
       "      <th></th>\n",
       "      <th>title</th>\n",
       "      <th>text</th>\n",
       "      <th>label</th>\n",
       "      <th>new_text</th>\n",
       "    </tr>\n",
       "  </thead>\n",
       "  <tbody>\n",
       "    <tr>\n",
       "      <th>0</th>\n",
       "      <td>House Dem Aide: We Didn’t Even See Comey’s Let...</td>\n",
       "      <td>House Dem Aide: We Didn’t Even See Comey’s Let...</td>\n",
       "      <td>1</td>\n",
       "      <td>House Dem Aide: We Didn’t Even See Comey’s Let...</td>\n",
       "    </tr>\n",
       "    <tr>\n",
       "      <th>1</th>\n",
       "      <td>FLYNN: Hillary Clinton, Big Woman on Campus - ...</td>\n",
       "      <td>Ever get the feeling your life circles the rou...</td>\n",
       "      <td>0</td>\n",
       "      <td>FLYNN: Hillary Clinton, Big Woman on Campus - ...</td>\n",
       "    </tr>\n",
       "    <tr>\n",
       "      <th>2</th>\n",
       "      <td>Why the Truth Might Get You Fired</td>\n",
       "      <td>Why the Truth Might Get You Fired October 29, ...</td>\n",
       "      <td>1</td>\n",
       "      <td>Why the Truth Might Get You Fired Why the Trut...</td>\n",
       "    </tr>\n",
       "    <tr>\n",
       "      <th>3</th>\n",
       "      <td>15 Civilians Killed In Single US Airstrike Hav...</td>\n",
       "      <td>Videos 15 Civilians Killed In Single US Airstr...</td>\n",
       "      <td>1</td>\n",
       "      <td>15 Civilians Killed In Single US Airstrike Hav...</td>\n",
       "    </tr>\n",
       "    <tr>\n",
       "      <th>4</th>\n",
       "      <td>Iranian woman jailed for fictional unpublished...</td>\n",
       "      <td>Print \\nAn Iranian woman has been sentenced to...</td>\n",
       "      <td>1</td>\n",
       "      <td>Iranian woman jailed for fictional unpublished...</td>\n",
       "    </tr>\n",
       "  </tbody>\n",
       "</table>\n",
       "</div>"
      ],
      "text/plain": [
       "                                               title  \\\n",
       "0  House Dem Aide: We Didn’t Even See Comey’s Let...   \n",
       "1  FLYNN: Hillary Clinton, Big Woman on Campus - ...   \n",
       "2                  Why the Truth Might Get You Fired   \n",
       "3  15 Civilians Killed In Single US Airstrike Hav...   \n",
       "4  Iranian woman jailed for fictional unpublished...   \n",
       "\n",
       "                                                text  label  \\\n",
       "0  House Dem Aide: We Didn’t Even See Comey’s Let...      1   \n",
       "1  Ever get the feeling your life circles the rou...      0   \n",
       "2  Why the Truth Might Get You Fired October 29, ...      1   \n",
       "3  Videos 15 Civilians Killed In Single US Airstr...      1   \n",
       "4  Print \\nAn Iranian woman has been sentenced to...      1   \n",
       "\n",
       "                                            new_text  \n",
       "0  House Dem Aide: We Didn’t Even See Comey’s Let...  \n",
       "1  FLYNN: Hillary Clinton, Big Woman on Campus - ...  \n",
       "2  Why the Truth Might Get You Fired Why the Trut...  \n",
       "3  15 Civilians Killed In Single US Airstrike Hav...  \n",
       "4  Iranian woman jailed for fictional unpublished...  "
      ]
     },
     "execution_count": 27,
     "metadata": {},
     "output_type": "execute_result"
    }
   ],
   "source": [
    "new_data_train2.head()"
   ]
  },
  {
   "cell_type": "code",
   "execution_count": 28,
   "metadata": {
    "colab": {
     "base_uri": "https://localhost:8080/",
     "height": 206
    },
    "execution": {
     "iopub.execute_input": "2023-12-22T22:08:00.209913Z",
     "iopub.status.busy": "2023-12-22T22:08:00.209638Z",
     "iopub.status.idle": "2023-12-22T22:08:00.219093Z",
     "shell.execute_reply": "2023-12-22T22:08:00.218552Z",
     "shell.execute_reply.started": "2023-12-22T22:08:00.209890Z"
    },
    "id": "i8nnN2CfnpdZ",
    "outputId": "0d4eca32-6a81-4fcd-83ed-2ddbe1b2ec08"
   },
   "outputs": [
    {
     "data": {
      "text/html": [
       "<div>\n",
       "<style scoped>\n",
       "    .dataframe tbody tr th:only-of-type {\n",
       "        vertical-align: middle;\n",
       "    }\n",
       "\n",
       "    .dataframe tbody tr th {\n",
       "        vertical-align: top;\n",
       "    }\n",
       "\n",
       "    .dataframe thead th {\n",
       "        text-align: right;\n",
       "    }\n",
       "</style>\n",
       "<table border=\"1\" class=\"dataframe\">\n",
       "  <thead>\n",
       "    <tr style=\"text-align: right;\">\n",
       "      <th></th>\n",
       "      <th>title</th>\n",
       "      <th>text</th>\n",
       "      <th>new_text</th>\n",
       "    </tr>\n",
       "  </thead>\n",
       "  <tbody>\n",
       "    <tr>\n",
       "      <th>0</th>\n",
       "      <td>Specter of Trump Loosens Tongues, if Not Purse...</td>\n",
       "      <td>PALO ALTO, Calif.  —   After years of scorning...</td>\n",
       "      <td>Specter of Trump Loosens Tongues, if Not Purse...</td>\n",
       "    </tr>\n",
       "    <tr>\n",
       "      <th>1</th>\n",
       "      <td>Russian warships ready to strike terrorists ne...</td>\n",
       "      <td>Russian warships ready to strike terrorists ne...</td>\n",
       "      <td>Russian warships ready to strike terrorists ne...</td>\n",
       "    </tr>\n",
       "    <tr>\n",
       "      <th>2</th>\n",
       "      <td>#NoDAPL: Native American Leaders Vow to Stay A...</td>\n",
       "      <td>Videos #NoDAPL: Native American Leaders Vow to...</td>\n",
       "      <td>#NoDAPL: Native American Leaders Vow to Stay A...</td>\n",
       "    </tr>\n",
       "    <tr>\n",
       "      <th>3</th>\n",
       "      <td>Tim Tebow Will Attempt Another Comeback, This ...</td>\n",
       "      <td>If at first you don’t succeed, try a different...</td>\n",
       "      <td>Tim Tebow Will Attempt Another Comeback, This ...</td>\n",
       "    </tr>\n",
       "    <tr>\n",
       "      <th>4</th>\n",
       "      <td>Keiser Report: Meme Wars (E995)</td>\n",
       "      <td>42 mins ago 1 Views 0 Comments 0 Likes 'For th...</td>\n",
       "      <td>Keiser Report: Meme Wars (E995) 42 mins ago 1 ...</td>\n",
       "    </tr>\n",
       "  </tbody>\n",
       "</table>\n",
       "</div>"
      ],
      "text/plain": [
       "                                               title  \\\n",
       "0  Specter of Trump Loosens Tongues, if Not Purse...   \n",
       "1  Russian warships ready to strike terrorists ne...   \n",
       "2  #NoDAPL: Native American Leaders Vow to Stay A...   \n",
       "3  Tim Tebow Will Attempt Another Comeback, This ...   \n",
       "4                    Keiser Report: Meme Wars (E995)   \n",
       "\n",
       "                                                text  \\\n",
       "0  PALO ALTO, Calif.  —   After years of scorning...   \n",
       "1  Russian warships ready to strike terrorists ne...   \n",
       "2  Videos #NoDAPL: Native American Leaders Vow to...   \n",
       "3  If at first you don’t succeed, try a different...   \n",
       "4  42 mins ago 1 Views 0 Comments 0 Likes 'For th...   \n",
       "\n",
       "                                            new_text  \n",
       "0  Specter of Trump Loosens Tongues, if Not Purse...  \n",
       "1  Russian warships ready to strike terrorists ne...  \n",
       "2  #NoDAPL: Native American Leaders Vow to Stay A...  \n",
       "3  Tim Tebow Will Attempt Another Comeback, This ...  \n",
       "4  Keiser Report: Meme Wars (E995) 42 mins ago 1 ...  "
      ]
     },
     "execution_count": 28,
     "metadata": {},
     "output_type": "execute_result"
    }
   ],
   "source": [
    "new_data_test2.head()"
   ]
  },
  {
   "cell_type": "markdown",
   "metadata": {
    "id": "_AmNfbhmnpda"
   },
   "source": [
    "## Make Processing In Text\n",
    "### Transform Upper Case To lower Case & Remove All Punctiuation(with tokenization) & Remove Stop Words"
   ]
  },
  {
   "cell_type": "markdown",
   "metadata": {
    "id": "Up-fmR6Jnpda"
   },
   "source": []
  },
  {
   "cell_type": "code",
   "execution_count": 29,
   "metadata": {
    "execution": {
     "iopub.execute_input": "2023-12-22T22:08:00.220212Z",
     "iopub.status.busy": "2023-12-22T22:08:00.219988Z",
     "iopub.status.idle": "2023-12-22T22:08:00.233773Z",
     "shell.execute_reply": "2023-12-22T22:08:00.232777Z",
     "shell.execute_reply.started": "2023-12-22T22:08:00.220190Z"
    },
    "id": "f0CzcG72npdv"
   },
   "outputs": [],
   "source": [
    "punc = list(string.punctuation)\n",
    "stop_words = stopwords.words(\"english\")\n",
    "\n",
    "def processing_text(data):\n",
    "    data.lower()\n",
    "\n",
    "    data = \" \".join([word for word in word_tokenize(data) if ((word not in stop_words) and (word not in punc))])\n",
    "\n",
    "    data = re.sub(\"[^a-z]\", \" \", data)\n",
    "\n",
    "    return data"
   ]
  },
  {
   "cell_type": "code",
   "execution_count": 30,
   "metadata": {
    "colab": {
     "base_uri": "https://localhost:8080/"
    },
    "execution": {
     "iopub.execute_input": "2023-12-22T22:08:00.235121Z",
     "iopub.status.busy": "2023-12-22T22:08:00.234860Z",
     "iopub.status.idle": "2023-12-22T22:11:06.510393Z",
     "shell.execute_reply": "2023-12-22T22:11:06.509395Z",
     "shell.execute_reply.started": "2023-12-22T22:08:00.235098Z"
    },
    "id": "yBqFycYwnpdv",
    "outputId": "c7a5e5e1-dc8f-41ae-aa72-5cf881527439"
   },
   "outputs": [
    {
     "name": "stderr",
     "output_type": "stream",
     "text": [
      "E:\\anconda\\envs\\machine\\lib\\site-packages\\ipykernel_launcher.py:1: SettingWithCopyWarning: \n",
      "A value is trying to be set on a copy of a slice from a DataFrame.\n",
      "Try using .loc[row_indexer,col_indexer] = value instead\n",
      "\n",
      "See the caveats in the documentation: https://pandas.pydata.org/pandas-docs/stable/user_guide/indexing.html#returning-a-view-versus-a-copy\n",
      "  \"\"\"Entry point for launching an IPython kernel.\n",
      "E:\\anconda\\envs\\machine\\lib\\site-packages\\ipykernel_launcher.py:2: SettingWithCopyWarning: \n",
      "A value is trying to be set on a copy of a slice from a DataFrame.\n",
      "Try using .loc[row_indexer,col_indexer] = value instead\n",
      "\n",
      "See the caveats in the documentation: https://pandas.pydata.org/pandas-docs/stable/user_guide/indexing.html#returning-a-view-versus-a-copy\n",
      "  \n"
     ]
    }
   ],
   "source": [
    "new_data_train2[\"Final_text\"] = new_data_train2[\"new_text\"].apply(processing_text)\n",
    "new_data_test2[\"Final_text\"] = new_data_test2[\"new_text\"].apply(processing_text)"
   ]
  },
  {
   "cell_type": "code",
   "execution_count": 31,
   "metadata": {
    "colab": {
     "base_uri": "https://localhost:8080/",
     "height": 293
    },
    "execution": {
     "iopub.execute_input": "2023-12-22T22:11:06.511811Z",
     "iopub.status.busy": "2023-12-22T22:11:06.511522Z",
     "iopub.status.idle": "2023-12-22T22:11:06.525649Z",
     "shell.execute_reply": "2023-12-22T22:11:06.524534Z",
     "shell.execute_reply.started": "2023-12-22T22:11:06.511786Z"
    },
    "id": "8zSNJfRCnpdw",
    "outputId": "99e4cd10-17a8-4cce-b0a9-a04727e43c35"
   },
   "outputs": [
    {
     "data": {
      "text/html": [
       "<div>\n",
       "<style scoped>\n",
       "    .dataframe tbody tr th:only-of-type {\n",
       "        vertical-align: middle;\n",
       "    }\n",
       "\n",
       "    .dataframe tbody tr th {\n",
       "        vertical-align: top;\n",
       "    }\n",
       "\n",
       "    .dataframe thead th {\n",
       "        text-align: right;\n",
       "    }\n",
       "</style>\n",
       "<table border=\"1\" class=\"dataframe\">\n",
       "  <thead>\n",
       "    <tr style=\"text-align: right;\">\n",
       "      <th></th>\n",
       "      <th>title</th>\n",
       "      <th>text</th>\n",
       "      <th>label</th>\n",
       "      <th>new_text</th>\n",
       "      <th>Final_text</th>\n",
       "    </tr>\n",
       "  </thead>\n",
       "  <tbody>\n",
       "    <tr>\n",
       "      <th>0</th>\n",
       "      <td>House Dem Aide: We Didn’t Even See Comey’s Let...</td>\n",
       "      <td>House Dem Aide: We Didn’t Even See Comey’s Let...</td>\n",
       "      <td>1</td>\n",
       "      <td>House Dem Aide: We Didn’t Even See Comey’s Let...</td>\n",
       "      <td>ouse  em  ide  e  idn    ven  ee  omey    ett...</td>\n",
       "    </tr>\n",
       "    <tr>\n",
       "      <th>1</th>\n",
       "      <td>FLYNN: Hillary Clinton, Big Woman on Campus - ...</td>\n",
       "      <td>Ever get the feeling your life circles the rou...</td>\n",
       "      <td>0</td>\n",
       "      <td>FLYNN: Hillary Clinton, Big Woman on Campus - ...</td>\n",
       "      <td>illary  linton  ig  oman  ampus  reitba...</td>\n",
       "    </tr>\n",
       "    <tr>\n",
       "      <th>2</th>\n",
       "      <td>Why the Truth Might Get You Fired</td>\n",
       "      <td>Why the Truth Might Get You Fired October 29, ...</td>\n",
       "      <td>1</td>\n",
       "      <td>Why the Truth Might Get You Fired Why the Trut...</td>\n",
       "      <td>hy  ruth  ight  et  ou  ired  hy  ruth  ight ...</td>\n",
       "    </tr>\n",
       "    <tr>\n",
       "      <th>3</th>\n",
       "      <td>15 Civilians Killed In Single US Airstrike Hav...</td>\n",
       "      <td>Videos 15 Civilians Killed In Single US Airstr...</td>\n",
       "      <td>1</td>\n",
       "      <td>15 Civilians Killed In Single US Airstrike Hav...</td>\n",
       "      <td>ivilians  illed  n  ingle     irstrike  av...</td>\n",
       "    </tr>\n",
       "    <tr>\n",
       "      <th>4</th>\n",
       "      <td>Iranian woman jailed for fictional unpublished...</td>\n",
       "      <td>Print \\nAn Iranian woman has been sentenced to...</td>\n",
       "      <td>1</td>\n",
       "      <td>Iranian woman jailed for fictional unpublished...</td>\n",
       "      <td>ranian woman jailed fictional unpublished sto...</td>\n",
       "    </tr>\n",
       "  </tbody>\n",
       "</table>\n",
       "</div>"
      ],
      "text/plain": [
       "                                               title  \\\n",
       "0  House Dem Aide: We Didn’t Even See Comey’s Let...   \n",
       "1  FLYNN: Hillary Clinton, Big Woman on Campus - ...   \n",
       "2                  Why the Truth Might Get You Fired   \n",
       "3  15 Civilians Killed In Single US Airstrike Hav...   \n",
       "4  Iranian woman jailed for fictional unpublished...   \n",
       "\n",
       "                                                text  label  \\\n",
       "0  House Dem Aide: We Didn’t Even See Comey’s Let...      1   \n",
       "1  Ever get the feeling your life circles the rou...      0   \n",
       "2  Why the Truth Might Get You Fired October 29, ...      1   \n",
       "3  Videos 15 Civilians Killed In Single US Airstr...      1   \n",
       "4  Print \\nAn Iranian woman has been sentenced to...      1   \n",
       "\n",
       "                                            new_text  \\\n",
       "0  House Dem Aide: We Didn’t Even See Comey’s Let...   \n",
       "1  FLYNN: Hillary Clinton, Big Woman on Campus - ...   \n",
       "2  Why the Truth Might Get You Fired Why the Trut...   \n",
       "3  15 Civilians Killed In Single US Airstrike Hav...   \n",
       "4  Iranian woman jailed for fictional unpublished...   \n",
       "\n",
       "                                          Final_text  \n",
       "0   ouse  em  ide  e  idn    ven  ee  omey    ett...  \n",
       "1         illary  linton  ig  oman  ampus  reitba...  \n",
       "2   hy  ruth  ight  et  ou  ired  hy  ruth  ight ...  \n",
       "3      ivilians  illed  n  ingle     irstrike  av...  \n",
       "4   ranian woman jailed fictional unpublished sto...  "
      ]
     },
     "execution_count": 31,
     "metadata": {},
     "output_type": "execute_result"
    }
   ],
   "source": [
    "new_data_train2.head()"
   ]
  },
  {
   "cell_type": "code",
   "execution_count": 32,
   "metadata": {
    "colab": {
     "base_uri": "https://localhost:8080/",
     "height": 293
    },
    "execution": {
     "iopub.execute_input": "2023-12-22T22:11:06.527370Z",
     "iopub.status.busy": "2023-12-22T22:11:06.527059Z",
     "iopub.status.idle": "2023-12-22T22:11:06.540355Z",
     "shell.execute_reply": "2023-12-22T22:11:06.539186Z",
     "shell.execute_reply.started": "2023-12-22T22:11:06.527345Z"
    },
    "id": "XMdxp81Lnpdw",
    "outputId": "3060340a-6ae0-4331-ebd6-721f40af0f6e"
   },
   "outputs": [
    {
     "data": {
      "text/html": [
       "<div>\n",
       "<style scoped>\n",
       "    .dataframe tbody tr th:only-of-type {\n",
       "        vertical-align: middle;\n",
       "    }\n",
       "\n",
       "    .dataframe tbody tr th {\n",
       "        vertical-align: top;\n",
       "    }\n",
       "\n",
       "    .dataframe thead th {\n",
       "        text-align: right;\n",
       "    }\n",
       "</style>\n",
       "<table border=\"1\" class=\"dataframe\">\n",
       "  <thead>\n",
       "    <tr style=\"text-align: right;\">\n",
       "      <th></th>\n",
       "      <th>title</th>\n",
       "      <th>text</th>\n",
       "      <th>new_text</th>\n",
       "      <th>Final_text</th>\n",
       "    </tr>\n",
       "  </thead>\n",
       "  <tbody>\n",
       "    <tr>\n",
       "      <th>0</th>\n",
       "      <td>Specter of Trump Loosens Tongues, if Not Purse...</td>\n",
       "      <td>PALO ALTO, Calif.  —   After years of scorning...</td>\n",
       "      <td>Specter of Trump Loosens Tongues, if Not Purse...</td>\n",
       "      <td>pecter  rump  oosens  ongues  ot  urse  tring...</td>\n",
       "    </tr>\n",
       "    <tr>\n",
       "      <th>1</th>\n",
       "      <td>Russian warships ready to strike terrorists ne...</td>\n",
       "      <td>Russian warships ready to strike terrorists ne...</td>\n",
       "      <td>Russian warships ready to strike terrorists ne...</td>\n",
       "      <td>ussian warships ready strike terrorists near ...</td>\n",
       "    </tr>\n",
       "    <tr>\n",
       "      <th>2</th>\n",
       "      <td>#NoDAPL: Native American Leaders Vow to Stay A...</td>\n",
       "      <td>Videos #NoDAPL: Native American Leaders Vow to...</td>\n",
       "      <td>#NoDAPL: Native American Leaders Vow to Stay A...</td>\n",
       "      <td>o      ative  merican  eaders  ow  tay  ll  i...</td>\n",
       "    </tr>\n",
       "    <tr>\n",
       "      <th>3</th>\n",
       "      <td>Tim Tebow Will Attempt Another Comeback, This ...</td>\n",
       "      <td>If at first you don’t succeed, try a different...</td>\n",
       "      <td>Tim Tebow Will Attempt Another Comeback, This ...</td>\n",
       "      <td>im  ebow  ill  ttempt  nother  omeback  his  ...</td>\n",
       "    </tr>\n",
       "    <tr>\n",
       "      <th>4</th>\n",
       "      <td>Keiser Report: Meme Wars (E995)</td>\n",
       "      <td>42 mins ago 1 Views 0 Comments 0 Likes 'For th...</td>\n",
       "      <td>Keiser Report: Meme Wars (E995) 42 mins ago 1 ...</td>\n",
       "      <td>eiser  eport  eme  ars         mins ago    ie...</td>\n",
       "    </tr>\n",
       "  </tbody>\n",
       "</table>\n",
       "</div>"
      ],
      "text/plain": [
       "                                               title  \\\n",
       "0  Specter of Trump Loosens Tongues, if Not Purse...   \n",
       "1  Russian warships ready to strike terrorists ne...   \n",
       "2  #NoDAPL: Native American Leaders Vow to Stay A...   \n",
       "3  Tim Tebow Will Attempt Another Comeback, This ...   \n",
       "4                    Keiser Report: Meme Wars (E995)   \n",
       "\n",
       "                                                text  \\\n",
       "0  PALO ALTO, Calif.  —   After years of scorning...   \n",
       "1  Russian warships ready to strike terrorists ne...   \n",
       "2  Videos #NoDAPL: Native American Leaders Vow to...   \n",
       "3  If at first you don’t succeed, try a different...   \n",
       "4  42 mins ago 1 Views 0 Comments 0 Likes 'For th...   \n",
       "\n",
       "                                            new_text  \\\n",
       "0  Specter of Trump Loosens Tongues, if Not Purse...   \n",
       "1  Russian warships ready to strike terrorists ne...   \n",
       "2  #NoDAPL: Native American Leaders Vow to Stay A...   \n",
       "3  Tim Tebow Will Attempt Another Comeback, This ...   \n",
       "4  Keiser Report: Meme Wars (E995) 42 mins ago 1 ...   \n",
       "\n",
       "                                          Final_text  \n",
       "0   pecter  rump  oosens  ongues  ot  urse  tring...  \n",
       "1   ussian warships ready strike terrorists near ...  \n",
       "2   o      ative  merican  eaders  ow  tay  ll  i...  \n",
       "3   im  ebow  ill  ttempt  nother  omeback  his  ...  \n",
       "4   eiser  eport  eme  ars         mins ago    ie...  "
      ]
     },
     "execution_count": 32,
     "metadata": {},
     "output_type": "execute_result"
    }
   ],
   "source": [
    "new_data_test2.head()"
   ]
  },
  {
   "cell_type": "code",
   "execution_count": 33,
   "metadata": {
    "colab": {
     "base_uri": "https://localhost:8080/",
     "height": 206
    },
    "execution": {
     "iopub.execute_input": "2023-12-22T22:11:06.554746Z",
     "iopub.status.busy": "2023-12-22T22:11:06.553805Z",
     "iopub.status.idle": "2023-12-22T22:11:06.569023Z",
     "shell.execute_reply": "2023-12-22T22:11:06.567978Z",
     "shell.execute_reply.started": "2023-12-22T22:11:06.554714Z"
    },
    "id": "4w5dB5L_npdx",
    "outputId": "9797e4d9-92f6-4d06-ab0c-3e641e394053"
   },
   "outputs": [
    {
     "data": {
      "text/html": [
       "<div>\n",
       "<style scoped>\n",
       "    .dataframe tbody tr th:only-of-type {\n",
       "        vertical-align: middle;\n",
       "    }\n",
       "\n",
       "    .dataframe tbody tr th {\n",
       "        vertical-align: top;\n",
       "    }\n",
       "\n",
       "    .dataframe thead th {\n",
       "        text-align: right;\n",
       "    }\n",
       "</style>\n",
       "<table border=\"1\" class=\"dataframe\">\n",
       "  <thead>\n",
       "    <tr style=\"text-align: right;\">\n",
       "      <th></th>\n",
       "      <th>label</th>\n",
       "      <th>Final_text</th>\n",
       "    </tr>\n",
       "  </thead>\n",
       "  <tbody>\n",
       "    <tr>\n",
       "      <th>0</th>\n",
       "      <td>1</td>\n",
       "      <td>ouse  em  ide  e  idn    ven  ee  omey    ett...</td>\n",
       "    </tr>\n",
       "    <tr>\n",
       "      <th>1</th>\n",
       "      <td>0</td>\n",
       "      <td>illary  linton  ig  oman  ampus  reitba...</td>\n",
       "    </tr>\n",
       "    <tr>\n",
       "      <th>2</th>\n",
       "      <td>1</td>\n",
       "      <td>hy  ruth  ight  et  ou  ired  hy  ruth  ight ...</td>\n",
       "    </tr>\n",
       "    <tr>\n",
       "      <th>3</th>\n",
       "      <td>1</td>\n",
       "      <td>ivilians  illed  n  ingle     irstrike  av...</td>\n",
       "    </tr>\n",
       "    <tr>\n",
       "      <th>4</th>\n",
       "      <td>1</td>\n",
       "      <td>ranian woman jailed fictional unpublished sto...</td>\n",
       "    </tr>\n",
       "  </tbody>\n",
       "</table>\n",
       "</div>"
      ],
      "text/plain": [
       "   label                                         Final_text\n",
       "0      1   ouse  em  ide  e  idn    ven  ee  omey    ett...\n",
       "1      0         illary  linton  ig  oman  ampus  reitba...\n",
       "2      1   hy  ruth  ight  et  ou  ired  hy  ruth  ight ...\n",
       "3      1      ivilians  illed  n  ingle     irstrike  av...\n",
       "4      1   ranian woman jailed fictional unpublished sto..."
      ]
     },
     "execution_count": 33,
     "metadata": {},
     "output_type": "execute_result"
    }
   ],
   "source": [
    "dataOfFinalText=new_data_train2.drop(columns=['title','text','new_text'])\n",
    "dataOfFinalText.head()"
   ]
  },
  {
   "cell_type": "code",
   "execution_count": 34,
   "metadata": {
    "colab": {
     "base_uri": "https://localhost:8080/",
     "height": 206
    },
    "execution": {
     "iopub.execute_input": "2023-12-22T22:11:06.570629Z",
     "iopub.status.busy": "2023-12-22T22:11:06.570176Z",
     "iopub.status.idle": "2023-12-22T22:11:06.580173Z",
     "shell.execute_reply": "2023-12-22T22:11:06.579537Z",
     "shell.execute_reply.started": "2023-12-22T22:11:06.570599Z"
    },
    "id": "M3mIzbhCnpdx",
    "outputId": "063cbea9-259b-4adf-ffe4-2d710dcaaed2"
   },
   "outputs": [
    {
     "data": {
      "text/html": [
       "<div>\n",
       "<style scoped>\n",
       "    .dataframe tbody tr th:only-of-type {\n",
       "        vertical-align: middle;\n",
       "    }\n",
       "\n",
       "    .dataframe tbody tr th {\n",
       "        vertical-align: top;\n",
       "    }\n",
       "\n",
       "    .dataframe thead th {\n",
       "        text-align: right;\n",
       "    }\n",
       "</style>\n",
       "<table border=\"1\" class=\"dataframe\">\n",
       "  <thead>\n",
       "    <tr style=\"text-align: right;\">\n",
       "      <th></th>\n",
       "      <th>Final_text</th>\n",
       "    </tr>\n",
       "  </thead>\n",
       "  <tbody>\n",
       "    <tr>\n",
       "      <th>0</th>\n",
       "      <td>pecter  rump  oosens  ongues  ot  urse  tring...</td>\n",
       "    </tr>\n",
       "    <tr>\n",
       "      <th>1</th>\n",
       "      <td>ussian warships ready strike terrorists near ...</td>\n",
       "    </tr>\n",
       "    <tr>\n",
       "      <th>2</th>\n",
       "      <td>o      ative  merican  eaders  ow  tay  ll  i...</td>\n",
       "    </tr>\n",
       "    <tr>\n",
       "      <th>3</th>\n",
       "      <td>im  ebow  ill  ttempt  nother  omeback  his  ...</td>\n",
       "    </tr>\n",
       "    <tr>\n",
       "      <th>4</th>\n",
       "      <td>eiser  eport  eme  ars         mins ago    ie...</td>\n",
       "    </tr>\n",
       "  </tbody>\n",
       "</table>\n",
       "</div>"
      ],
      "text/plain": [
       "                                          Final_text\n",
       "0   pecter  rump  oosens  ongues  ot  urse  tring...\n",
       "1   ussian warships ready strike terrorists near ...\n",
       "2   o      ative  merican  eaders  ow  tay  ll  i...\n",
       "3   im  ebow  ill  ttempt  nother  omeback  his  ...\n",
       "4   eiser  eport  eme  ars         mins ago    ie..."
      ]
     },
     "execution_count": 34,
     "metadata": {},
     "output_type": "execute_result"
    }
   ],
   "source": [
    "testOfFinalText=new_data_test2.drop(columns=['title','text','new_text'])\n",
    "testOfFinalText.head()"
   ]
  },
  {
   "cell_type": "markdown",
   "metadata": {
    "id": "S_Ez630gnpdx"
   },
   "source": [
    "### Splitting Data\n"
   ]
  },
  {
   "cell_type": "code",
   "execution_count": 35,
   "metadata": {
    "execution": {
     "iopub.execute_input": "2023-12-22T22:11:06.581609Z",
     "iopub.status.busy": "2023-12-22T22:11:06.581311Z",
     "iopub.status.idle": "2023-12-22T22:11:06.586255Z",
     "shell.execute_reply": "2023-12-22T22:11:06.585400Z",
     "shell.execute_reply.started": "2023-12-22T22:11:06.581584Z"
    },
    "id": "PgAagzQAnpdy"
   },
   "outputs": [],
   "source": [
    "x=new_data_train2['Final_text']\n",
    "y=new_data_train2['label']"
   ]
  },
  {
   "cell_type": "markdown",
   "metadata": {
    "id": "gM_MgLICnpdy"
   },
   "source": [
    "### Showing sample of data using pandas module\n"
   ]
  },
  {
   "cell_type": "code",
   "execution_count": 36,
   "metadata": {
    "colab": {
     "base_uri": "https://localhost:8080/",
     "height": 1000
    },
    "execution": {
     "iopub.execute_input": "2023-12-22T22:11:06.587792Z",
     "iopub.status.busy": "2023-12-22T22:11:06.587380Z",
     "iopub.status.idle": "2023-12-22T22:11:06.665932Z",
     "shell.execute_reply": "2023-12-22T22:11:06.664992Z",
     "shell.execute_reply.started": "2023-12-22T22:11:06.587757Z"
    },
    "id": "ceb7-p9mnpdy",
    "outputId": "539b5e30-d803-4818-916f-58a0f20dd355"
   },
   "outputs": [
    {
     "data": {
      "text/html": [
       "<style  type=\"text/css\" >\n",
       "</style><table id=\"T_1d9f54e6_a1a1_11ee_869f_34f64b3a1034\" ><thead>    <tr>        <th class=\"blank level0\" ></th>        <th class=\"col_heading level0 col0\" >Input</th>        <th class=\"col_heading level0 col1\" >Labels</th>    </tr></thead><tbody>\n",
       "                <tr>\n",
       "                        <th id=\"T_1d9f54e6_a1a1_11ee_869f_34f64b3a1034level0_row0\" class=\"row_heading level0 row0\" >0</th>\n",
       "                        <td id=\"T_1d9f54e6_a1a1_11ee_869f_34f64b3a1034row0_col0\" class=\"data row0 col0\" > ouse  em  ide  e  idn    ven  ee  omey    etter  ntil  ason  haffetz  weeted  t  ouse  em  ide  e  idn    ven  ee  omey    etter  ntil  ason  haffetz  weeted  t  y  arrell  ucus  ctober          ubscribe  ason  haffetz stump  merican  ork  tah image courtesy  ichael  olley available  reative  ommons    license  ith apologies  eith  lbermann doubt  orst  erson  he  orld week      irector  ames  omey  ut according  ouse  emocratic aide looks like also know second worst person well  t turns  omey sent now infamous letter announcing     looking emails may related  illary  linton   email server ranking  emocrats relevant committees   hear  omey  hey found via tweet one  epublican committee chairmen  s know  omey notified  epublican chairmen  emocratic ranking members  ouse  ntelligence  udiciary  versight committees agency reviewing emails recently discovered order see contained classified information  ot long letter went  versight  ommittee  hairman  ason  haffetz set political world ablaze tweet      ir informed     he     learned existence emails appear pertinent investigation     ase reopened    ason  haffetz jasoninthehouse  ctober          f course know case  omey actually saying reviewing emails light   unrelated case    which know  nthony  einer   sexting teenager  ut apparently little things facts   matter  haffetz  he  tah  epublican already vowed initiate raft investigations  illary wins at least two years   worth possibly entire term   worth  pparently  haffetz thought     already work him resulting tweet briefly roiled nation cooler heads realized dud  ut according senior  ouse  emocratic aide misreading letter may least  haffetz   sins  hat aide told  hareblue boss  emocrats   even know  omey   letter time and found checked  witter    emocratic  anking  embers relevant committees   receive  omey   letter  epublican  hairmen  n fact  emocratic  anking  embers   receive  hairman  versight  overnment  eform  ommittee  ason  haffetz tweeted made public     o let   see   got right  he     director tells  haffetz     committee chairmen major development potentially politically explosive investigation neither  haffetz colleagues courtesy let  emocratic counterparts know  nstead according aide made find  witter  here already talk  aily  os  omey provided advance notice letter  haffetz  epublicans giving time turn spin machine  hat may make good theater nothing far even suggests case  fter nothing far suggests  omey anything grossly incompetent tone deaf  hat suggest however  haffetz acting way makes  an  urton  arrell  ssa look like models responsibility bipartisanship  e   even decency notify ranking member  lijah  ummings something explosive  f   trample basic standards fairness     know  ranted   likely  haffetz answer  e sits ridiculously  epublican district anchored  rovo  rem  ook  artisan  oting  ndex      gave  itt  omney punishing    percent vote       oreover  epublican  ouse leadership given full support  haffetz   planned fishing expedition  ut   mean   turn hot lights  fter textbook example  ouse become  epublican control  nd also  econd  orst  erson  orld  bout  arrell  ucus  arrell    something graduate  niversity  orth  arolina considers journalist old school  n attempt turn member religious right college succeeded turning religious right  s worst nightmare    charismatic  hristian unapologetic liberal  is desire stand scared silence increased survived abusive three year marriage  ou may know  aily  os  hristian  em     ollow  witter  arrell ucus connect  acebook  lick buy  arrell  ello  ello  onnect</td>\n",
       "                        <td id=\"T_1d9f54e6_a1a1_11ee_869f_34f64b3a1034row0_col1\" class=\"data row0 col1\" >1</td>\n",
       "            </tr>\n",
       "            <tr>\n",
       "                        <th id=\"T_1d9f54e6_a1a1_11ee_869f_34f64b3a1034level0_row1\" class=\"row_heading level0 row1\" >1</th>\n",
       "                        <td id=\"T_1d9f54e6_a1a1_11ee_869f_34f64b3a1034row1_col0\" class=\"data row1 col0\" >       illary  linton  ig  oman  ampus  reitbart  ver get feeling life circles roundabout rather heads straight line toward intended destination  illary  linton remains big woman campus leafy liberal  ellesley  assachusetts  verywhere else votes likely inauguration dress remainder days way  iss  avisham forever wore wedding dress  peaking  reat  xpectations  illary  odham overflowed    years ago first addressed  ellesley graduating class  he president college informed gathered      students needed   debate far   could ascertain spokesman   kind like  emocratic primaries      minus terms unknown even  even  isters school     glad  iss  dams made clear   speaking today us       us    iss  odham told classmates  fter appointing  dger  ergen  harlie  c arthys  ortimer  nerds attendance bespectacled granny glasses awarding matronly wisdom   least  ohn  ennon wisdom took issue previous speaker  espite becoming first win election seat        enate since  econstruction  dward  rooke came criticism calling   empathy   goals protestors criticized tactics  hough  linton senior thesis  aul  linsky lamented    lack  ower demagogues     elitist arrogance repressive intolerance   within  ew  eft similar words coming  epublican necessitated brief rebuttal    rust    odham ironically observed        one word   asked class rehearsal wanted say everyone came said    alk trust talk lack trust us way feel others  alk trust bust     hat say  hat say feeling permeates generation perhaps even understood distrusted    he   trust bust   certainly busted  linton        plans  he certainly even understand people distrusted  fter  hitewater  ravelgate vast conspiracy  enghazi missing emails  linton found distrusted voice  riday  here load compromising road broadening political horizons  nd distrust  merican people    rump edged    percent    percent question immediately prior  ovember   election   stood major reason closing horizons  linton described vanquisher supporters embracing   lie     con     alternative facts     assault truth reason    he failed explain  merican people chose lies truth    s history majors among today know well people power invent facts attack question mark beginning end free society   offered    hat hyperbole    ike many people emerge     s  illary  linton embarked upon long strange trip  rom high school  oldwater  irl  ellesley  ollege  epublican president  emocratic politician  linton drank times place gave degree  ore significantly went idealist cynic comparison two  ellesley commencement addresses show  ay back lamented   long leaders viewed politics art possible challenge practice politics art making appears impossible possible    ow big woman campus odd woman  hite  ouse wonders current station even possible    hy        points ahead   asked  eptember  n  ay asks   president  he woman famously dubbed   congenital liar    ill  afire concludes lies   mind  etting stood  lection  ay like finding jilted bride wedding day inspires dangerous delusions</td>\n",
       "                        <td id=\"T_1d9f54e6_a1a1_11ee_869f_34f64b3a1034row1_col1\" class=\"data row1 col1\" >0</td>\n",
       "            </tr>\n",
       "            <tr>\n",
       "                        <th id=\"T_1d9f54e6_a1a1_11ee_869f_34f64b3a1034level0_row2\" class=\"row_heading level0 row2\" >2</th>\n",
       "                        <td id=\"T_1d9f54e6_a1a1_11ee_869f_34f64b3a1034row2_col0\" class=\"data row2 col0\" > hy  ruth  ight  et  ou  ired  hy  ruth  ight  et  ou  ired  ctober          he tension intelligence analysts political policymakers always honest assessments desired results latter often overwhelming former  raq  ar writes  awrence  avidson  y  awrence  avidson  or might wonder foreign policy makers repeatedly make bad choices insight might drawn following analysis  he action plays  nited  tates lessons probably universal  ack early spring       eorge     ush initiated invasion  raq  ne key public reasons claim country   dictator  addam  ussein verge developing nuclear weapons hiding weapons mass destruction  he real reason went beyond charge included long range plan   regime change    iddle  ast  resident  eorge     ush  ice  resident  ick  heney receive  val  ffice briefing      irector  eorge  enet  lso present  hief  taff  ndy  ard right  hite  ouse photo  or purposes concentrate belief  raq become hostile nuclear power  hy  resident  ush close associates accept scenario readily  he short answer  ush wanted indeed needed believe rationale invading  raq  t first tried connect  addam  ussein      attacks      hough never gave stratagem lack evidence made difficult rally  merican people already fixated  fghanistan support war  aghdad  ut nuclear weapons gambit proved fruitful hard evidence charge supposedly reliable witnesses persons exiled anti  addam  raqis many      government   payroll kept telling  ush advisers nuclear story true  hat      leadership cadre whose worldview literally demanded mortally dangerous  raq informants order precipitate overthrow  addam willing tell tale pending atomic weapons  he strong desire believe tale nuclear  raq lowered threshold proof  ikewise repeated assertions assumed dependable  raqi sources underpinned nationwide      campaign generating fear war fever  o      allies insisted  nited  ations send weapons inspectors scour  raq evidence nuclear weapons program well chemical biological weapons  hat inspectors could find convincing evidence frustrated  ush administration soon forced hand  n  arch          ush launched invasion  raq expectation occupation country      inspectors would surely find evidence nukes least stockpiles chemical biological weapons  hey  heir  raqi informants systematically lied  ocial  ehavioral  ciences  escue  he various      intelligence agencies thoroughly shaken affair today    years later directors managers still trying sort   specifically tell getting   true   intelligence lied  r one intelligence worker put need   help protect us armies snake oil salesmen    o end     et al market academic assistance  hmed  halabi head  raqi  ational  ongress key supplier  raqi defectors bogus stories hidden         partnership   forged  ffice  irector  ational  ntelligence      serves coordinating center sixteen independent      intelligence agencies  ational  cademies  ciences  ngineering  edicine  he result collaboration   permanent  ntelligence  ommunity  tudies  oard   coordinate programs   social behavioral science research might strengthen national security    espite effort almost certain   social behavioral sciences   give spy agencies want   way detecting lies better present standard procedures polygraph tests interrogations  ut even could might well make difference real problem found liars  t found believers  he  elievers  t simply true      leaders seem assert      intelligence agency personnel tell often lied  his case thousands middle echelon intelligence workers desk officers specialists know something closely approaching truth   know pretty well going places like  fghanistan  raq  yria  ibya  srael  alestine elsewhere  irector  ational  ntelligence  ames  lapper right talks  resident  arack  bama  val  ffice  ohn  rennan national security aides present  hoto credit  ffice  irector  ational  ntelligence  herefore someone feeds   snake oil   usually know  owever accurate grasp things often avail superiors   got appointments accepting pre structured worldview   different criterion   true   analysts  isten  harles  aukel  ational  ntelligence  ouncil   yet another organization acts meeting ground    intelligence agencies  eferring search way avoid getting taken lies  aukel declared    e   looking truth  ut   particularly looking truth works    ow might mean   certainly tell means historically  t means power brokers   truth   must match fit worldview   political ideological precepts  f fit   work     o intelligence specialists send usually accurate assessments line policy makers often hit roadblock caused   group think   ideological blinkers   know better   attitude  n hand long   selling leadership matches want believe peddle anything imaginary  raqi nukes  srael  estern style democracy  audi  rabia indispensable ally  ibya liberated country  ashar al  ssad real roadblock peace  yria  trategic  efense  nitiative     aka  tar  ars world getting colder warmer  merican exceptionalism glory   list almost endless  hat sad tale tell us  f want spend millions dollars social behavioral science research improve assessment use intelligence forget liars  hat want look antidote narrow mindedness believers   policymakers seem able rise ideological presumptions class   presumptions underpin self confidence lead us slippery slopes  t happened way often many places source  hakespeare   determination   past prelude     ur elites play destinies free   capacity break structured ways seeing  et middle echelon specialists keep sending relatively accurate assessments ladder power  ope springs eternal</td>\n",
       "                        <td id=\"T_1d9f54e6_a1a1_11ee_869f_34f64b3a1034row2_col1\" class=\"data row2 col1\" >1</td>\n",
       "            </tr>\n",
       "            <tr>\n",
       "                        <th id=\"T_1d9f54e6_a1a1_11ee_869f_34f64b3a1034level0_row3\" class=\"row_heading level0 row3\" >3</th>\n",
       "                        <td id=\"T_1d9f54e6_a1a1_11ee_869f_34f64b3a1034row3_col0\" class=\"data row3 col0\" >    ivilians  illed  n  ingle     irstrike  ave  een  dentified  ideos     ivilians  illed  n  ingle     irstrike  ave  een  dentified  he rate civilians killed  merican airstrikes  fghanistan higher         engaged active combat operations  hoto  ellfire missiles loaded onto    military  eaper drone  fghanistan  taff  gt  rian  erguson      ir  orce  he  ureau able identify    civilians killed single    drone strike  fghanistan last month   biggest loss civilian life one strike since attack  edecins  ans  rontieres hospital     last  ctober  he    claimed conducted   counter terrorism   strike  slamic  tate    fighters hit  angarhar province missiles  eptember     ut next day  nited  ations issued unusually rapid strong statement saying strike killed    civilians injured    others gathered house celebrate tribal elder   return pilgrimage  ecca  he  ureau spoke man named  aji  ais said owner house targeted  e said    people killed    others injured provided names listed  he  ureau able independently verify identities died  ais   son headmaster local school among  nother man  bdul  akim lost three sons attack  ais said involvement    denied    claims    members visited house strike  e said     even speak sort people phone let alone receiving house     he deaths amount biggest confirmed loss civilian life single  merican strike  fghanistan since attack     hospital  unduz last  ctober killed least    people  he  angarhar strike    attack kill civilians  eptember  he  ureau   data indicates many    civilians allied soldiers killed four  merican strikes  fghanistan  omalia month  n  eptember    pair strikes killed eight  fghan policemen  arinkot capital  rozgan provice    jets reportedly hit police checkpoint killing one officer returning target first responders  he use tactic   known   double tap   strike   controversial often hit civilian rescuers  he    told  ureau conducted strike individuals firing posing threat  fghan forces  he email directly address allegations  fghan policemen killed  t end month  omalia citizens burnt    flags streets north central city  alcayo emerged drone attack may unintentionally killed     omali soldiers civilians  he strike occurred day one  angarhar  n  omali  fghan incidents    first denied non combatants killed  t investigating strikes  angarhar  alcayo  he rate civilians killed  merican airstrikes  fghanistan higher         engaged active combat operations  ame</td>\n",
       "                        <td id=\"T_1d9f54e6_a1a1_11ee_869f_34f64b3a1034row3_col1\" class=\"data row3 col1\" >1</td>\n",
       "            </tr>\n",
       "            <tr>\n",
       "                        <th id=\"T_1d9f54e6_a1a1_11ee_869f_34f64b3a1034level0_row4\" class=\"row_heading level0 row4\" >4</th>\n",
       "                        <td id=\"T_1d9f54e6_a1a1_11ee_869f_34f64b3a1034row4_col0\" class=\"data row4 col0\" > ranian woman jailed fictional unpublished story woman stoned death adultery  rint  n  ranian woman sentenced six years prison  ran    evolutionary  uard searched home found notebook contained fictional story   written woman stoned death according  urasia  eview  olrokh  brahimi  raee    wife political prisoner  rash  adeghi    serving    year prison sentence human rights activist publication reported    hen intelligence unit  evolutionary  uards came arrest husband raided apartment   without warrant   found drafts stories  brahimi  raee written   article stated    ne confiscated drafts story stoning women death adultery   never published never presented anyone   article stated    he narrative followed story protagonist watched movie stoning women  slamic law adultery</td>\n",
       "                        <td id=\"T_1d9f54e6_a1a1_11ee_869f_34f64b3a1034row4_col1\" class=\"data row4 col1\" >1</td>\n",
       "            </tr>\n",
       "            <tr>\n",
       "                        <th id=\"T_1d9f54e6_a1a1_11ee_869f_34f64b3a1034level0_row5\" class=\"row_heading level0 row5\" >5</th>\n",
       "                        <td id=\"T_1d9f54e6_a1a1_11ee_869f_34f64b3a1034row5_col0\" class=\"data row5 col0\" > ackie  ason  ollywood  ould  ove  rump  e  ombed  orth  orea  ack  rans  athrooms  xclusive  ideo  reitbart  n trying times  ackie  ason  oice  eason  n week   exclusive clip  reitbart  ews  ackie discusses looming threat  orth  orea explains  resident  onald  rump could win support  ollywood left       needs strike first    f decides bomb whole country behind everybody realize choice thing    ackie says    xcept  ollywood left  hey   get nauseous      rump could win left   fall love minute  f bombed better reason    ackie explains    ike transgender toilets    ackie also says   surprise  ollywood celebrities   support  rump   strike  yrian airfield month    hey infuriated   says    ecause might save lives  hat   mean anything  f saved environment climate change  hey   happiest people world    till  ackie says   got nothing  ollywood celebs  hey   got tough life country  atch  ackie   latest clip  ollow  aniel  ussbaum  witter dznussbaum</td>\n",
       "                        <td id=\"T_1d9f54e6_a1a1_11ee_869f_34f64b3a1034row5_col1\" class=\"data row5 col1\" >0</td>\n",
       "            </tr>\n",
       "            <tr>\n",
       "                        <th id=\"T_1d9f54e6_a1a1_11ee_869f_34f64b3a1034level0_row6\" class=\"row_heading level0 row6\" >6</th>\n",
       "                        <td id=\"T_1d9f54e6_a1a1_11ee_869f_34f64b3a1034row6_col0\" class=\"data row6 col0\" > ife  ife  f  uxury  lton  ohn      avorite  hark  ictures  o  tare  t  uring  ong  ranscontinental  lights  ver wonder  ritain   iconic pop pianist gets long flight  ere six pictures sharks  ir  lton  ohn likes stare pass time airplane      hark  wimming  it next  lton  ohn flight   see man living lap luxury immediately tapes photo shark darting ocean window stare throughout trip  he platinum selling artist known pull window shade make shark disappear quickly retract mark animal   triumphant return  e often repeat act dozens times per flight      reat  hite  hark  eaping  nto  he  ir  hen   international pop sensation worth estimated     million people go extra mile make happy  light crews instructed place photo breaching great white  lton  ohn   seat back pocket even boards plane  he five time  rammy winner loves pull image leisure stare flying sometimes holding mere   to   inches away face fixates upon shark   beady eyes      hark  n  he  rowl  umor  lton  ohn first acquired shark photo      flying  ondon perform    andle  n  he  ind    rincess  iana   funeral  t   staple travel routine ever since  hose flown music legend say  ir  lton turns every single overhead light row study picture magnifying glass    wo  ammerhead  harks  ow man behind    iny  ancer      ocket  an   handle turbulence plane traverses  tlantic  nce    asten  eat  elts   sign lights picture two hammerhead sharks comes  lton  ohn holds photo tight vice grip stares straight turbulence passes often without blinking minutes time    he  oster  or  aws  ir  lton  ohn absolutely adores poster  teven  pielberg    aws hopes one day see film  n meantime  ritish icon makes slowly unfolding    by    inch copy poster whenever   long flight gently tracing shark   teeth finger stares lovingly gaping mouth    ilot    hoice  s much  lton relishes calming regularity shark picture rotation also loves excitement gazing upon totally unexpected shark flying  ondon distant corner  urope  hat   pilots fly  ir  lton print shark picture choice home computers going airport hand visibly excited musician prior takeoff  o yeah it   good  lton</td>\n",
       "                        <td id=\"T_1d9f54e6_a1a1_11ee_869f_34f64b3a1034row6_col1\" class=\"data row6 col1\" >1</td>\n",
       "            </tr>\n",
       "            <tr>\n",
       "                        <th id=\"T_1d9f54e6_a1a1_11ee_869f_34f64b3a1034level0_row7\" class=\"row_heading level0 row7\" >7</th>\n",
       "                        <td id=\"T_1d9f54e6_a1a1_11ee_869f_34f64b3a1034row7_col0\" class=\"data row7 col0\" > eno t  amon  ins  rench  ocialist  arty    residential  omination  he  ew  ork  imes          rance chose idealistic traditional candidate  unday   primary represent  ocialist parties presidential election spring  he candidate  eno t  amon    ran slogan would   make  rance   heart beat   bested  anuel  alls former prime minister whose campaign promoted policies strong background  r   amon appeared wide margin incomplete returns showing estimated    percent vote  r   alls      percent    onight left holds head high looking future    r   amon said addressing supporters    ur country needs left modern innovative left   said  r   amon   victory clearest sign yet voters left want break policies  resident  ran ois  ollande  ecember announced would seek  owever  r   amon   strong showing unlikely change widespread assessments candidates little chance making second round voting general election  he first round general election set  pril    runoff  ay    he  ocialist  arty deeply divided one measure lack popular enthusiasm relatively low number people voting  bout two million people voted second round primary  unday contrast     million second round last presidential primary left       owever much conventional wisdom elections go thrown question past week leading candidate  ran ois  illon represents main party  epublicans accused paying wife large sums money work parliamentary aide  hile nepotism legal  rench political system clear actually work  rosecutors specialize financial malfeasance reviewing case  rance   electoral system allows multiple candidates run president first round voting top two go second round  r   amon entering race already crowded left candidates include   lenchon far left  mmanuel  acron independent served economy minister  r   ollande   government embraces policies  nless decides withdraw  r   illon mainstream right candidate also run extreme right candidate  arine  e  en  he two expected go runoff  r   amon   victory attributed least part image idealist traditional leftist candidate appeals union voters well environmentally concerned socially liberal young people  nlike  r   alls also clearly distanced  r   ollande   unpopular policies especially economic ones  homas  ekenbosch    student one leaders group  outh  ith  eno t  amon said  r   amon embodied new hope left    e perspective something build    r   ekenbosch said  r   ollande disappointed many young people party abandoned ideals support workers many voters believe according  r   ekenbosch  r   ollande   government pressure  uropean  nion meet budget restraints struggled pass labor code reforms make market attractive foreign investors also encourage  rench businesses expand  rance  he measures ultimately passed weeks strikes watered generated little concrete progress improving  rance   roughly    percent unemployment rate nearly    percent youth joblessness rate  r   amon strongly endorses stimulus approach improving economy promised phase universal income would especially help young people looking work would also supplement livelihood  rench workers  he end goal would everyone receive     euros per month        e someone trusts us    r   ekenbosch said   says     give enough pay studies  ou scholarship spares working  c onald   provisional contracts   years    r   amon advocates phasing diesel fuel encouraging drivers replace vehicles use petroleum products electrical ones  is leftist pedigree began early  is father worked arsenal  rest city far west  rittany mother worked secretary  e early member  ovement  oung  ocialists continued work closely political life  e also worked  artine  ubry mayor  ille former  ocialist  arty leader</td>\n",
       "                        <td id=\"T_1d9f54e6_a1a1_11ee_869f_34f64b3a1034row7_col1\" class=\"data row7 col1\" >0</td>\n",
       "            </tr>\n",
       "            <tr>\n",
       "                        <th id=\"T_1d9f54e6_a1a1_11ee_869f_34f64b3a1034level0_row8\" class=\"row_heading level0 row8\" >8</th>\n",
       "                        <td id=\"T_1d9f54e6_a1a1_11ee_869f_34f64b3a1034row8_col0\" class=\"data row8 col0\" > xcerpts  rom  raft  cript  onald  rump     amp   ith  lack  hurch    astor  he  ew  ork  imes  onald     rump scheduled make highly anticipated visit church  etroit  aturday first visit campaign  here participate session conducted  ishop  ayne     ackson church  reat  aith  inistries  nternational  iven importance visit  rump team went far script  r   rump   answers  ishop  ackson   questions submitted advance  fter article published  hursday night campaign official said  r   rump would also speak church   congregation tour neighborhoods  en  arson former presidential candidate  etroit native  elow excerpts draft script obtained  he  ew  ork  imes        r   rump racial divide country evident tension boiling  ase point  everend  inckney  outh  arolina gunned white young man came  ible  tudy slaughtered  everend eight individuals wanted start race war  hat would administration bring racial tension  ountry  n  ible  esus said house divided stand  ur best hope erasing racial tensions  merica work toward society  n business hire retain award based merit  n society however divisions eliminated equal opportunity equal access programs institutions lift people country  e reform tax system spur economic growth long haul  e stronger enforcement immigration laws  e renegotiate trade deals bring advantage back  merican workforce  ut perhaps important must provide equal opportunity quality education  mericans  he higher educational attainment greater likelihood one climb economic ladder  e must bring school choice programs cities must get rid  ommon  ore  e must make sure access affordability accountability brought higher education system  ithout focus educational outcomes every  merican perpetuate permanent underclass progressive policies sustained  epublicans like need courage speak truth done  e courage go communities work everyone make sure schools good children access whatever educational situation may need  his something one person something together        r   rump perception administration racist  ith many  frican  merican voters belief  epublican  arty whole cater  frican  merican needs  n           two  epublican  andidates  ohn  c ain  itt  omney neither one came  etroit urban area   remember even address concerns community  irst   would like commend coming community  epublican  andidate  econd   need know would change perception community  he proof say pudding  oming community meaningless unless offer alternative horrible progressive agenda perpetuated permanent underclass  merica  e need true word offer  mericans opportunities every one reach full potential  his means economic policies bring jobs back  merica raise wages  his means working hard provide many educational options possible parents children  his means cleaning drugs making neighborhoods communities safer  e need get people welfare back work  e need make sure anyone qualifies go bank get loan start business  e need reduce regulations expand options people want independent government  e need make sure people worship want want without worrying federal agency going threaten religious liberties  epublicans better options  e need courage present conviction        r   rump vision  merica  nd specifically  lack  merica  f repeal  bama care plan provide health care medicine   afford yet need  s  resident   must serve  mericans without regard race ethnicity qualification   must approach task utmost wisdom make sure  mericans opportunities achieve potential  f  ake  merica  reat  gain must reduce rather highlight issues race country   want make race disappear factor government governance  very individual regardless race ethnicity must access full array opportunities  merica  y vision  merica every citizen legal resident nation able stand side side proud fact live greatest nation earth  s  ffordable  are  ct   work repeal act replace market driven solutions offer access healthcare affordable prices  very  merican able purchase health insurance across state lines health savings account belong price transparency shop best services best prices know compete clogging system simply country illegally  e want block grant  edicaid states provide services closer people  e want make sure every  merican great economic opportunity seek health insurance still able afford  his approach serve  mericans ensure  mericans covered better insurance healthcare options        r   rump   registered  emocrat   undecided voter election       t lot  astors  frican  mericans made minds concerning going cast vote  he latest polls indicate   percent  frican  merican vote  hat say undecided voters others  frican  merican  ommunity win vote  ovember         nd beyond winning  frican  merican vote important  ll votes important campaign  our vote neighbor   vote vote every  merican critical   must   make sure know vote voting stronger vibrant  merica  y policies offer clear choice  ou continue road progressivism created permanent underclass country unfortunately includes far many people color  f want better  merica must break historical hold  emocrats people color move options allow achieve potential  his opportunity   outcomes promises things come never materialize  he progressives worked tirelessly bring  mericans one level rather allowing many possible rise high possible  ducation jobs religious liberty protection civil rights promises   keep utter gain favor  f interested greater  merica opportunity liberty prosperity must take chance walk side  f want strong partner journey vote   never let  y way support   climbing</td>\n",
       "                        <td id=\"T_1d9f54e6_a1a1_11ee_869f_34f64b3a1034row8_col1\" class=\"data row8 col1\" >0</td>\n",
       "            </tr>\n",
       "            <tr>\n",
       "                        <th id=\"T_1d9f54e6_a1a1_11ee_869f_34f64b3a1034level0_row9\" class=\"row_heading level0 row9\" >9</th>\n",
       "                        <td id=\"T_1d9f54e6_a1a1_11ee_869f_34f64b3a1034row9_col0\" class=\"data row9 col0\" >   ack  hannel  lan  kraine  ussia  ourtesy  rump  ssociates  he  ew  ork  imes   week  ichael     lynn resigned national security adviser sealed proposal office outlining way  resident  rump lift sanctions  ussia  r   lynn gone caught lying discussion sanctions  ussian ambassador  ut proposal peace plan  kraine  ussia remains along pushing  ichael     ohen president   personal lawyer delivered document  elix     ater business associate helped  r   rump scout deals  ussia  krainian lawmaker trying rise political opposition movement shaped part  r   rump   former campaign manager  aul  anafort  t time  r   rump   ties  ussia people connected heightened scrutiny   investigations  merican intelligence agencies           ongress   associates remain willing eager wade efforts behind scenes  r   rump confounded  emocrats  epublicans alike repeated praise  ussian president  ladimir     utin desire forge alliance  hile nothing illegal unofficial efforts proposal seems tip toward  ussian interests may set alarms  he amateur diplomats say goal simply help settle grueling conflict cost        lives    ho   want help bring peace    r   ohen asked  ut proposal contains peace plan  ndrii     rtemenko  krainian lawmaker sees leader future  kraine claims evidence     names companies wire transfers     showing corruption  krainian president  etro     oroshenko could help oust  nd  r   rtemenko said received encouragement plans top aides  r   utin     lot people call  ussian agent       agent         agent    r   rtemenko said    ut find good solution countries talk    r   ohen  r   ater said spoken  r   rump proposal experience foreign policy  r   ohen one several  rump associates scrutiny          counterintelligence examination links  ussia according law enforcement officials denied illicit connections  he two others involved effort somewhat questionable pasts  r   ater    pleaded guilty role stock manipulation scheme decades ago involved  afia  r   rtemenko spent two half years jail  iev early     s embezzlement charges later dropped said politically motivated  hile unclear  hite  ouse take proposal seriously diplomatic freelancing infuriated  krainian officials  kraine   ambassador  nited  tates  aleriy  haly said  r   rtemenko   entitled present alternative peace plans behalf  kraine foreign government including       administration    t security conference  unich  riday  r   oroshenko warned  est   appeasement    ussia  merican experts say offering  ussia alternative international agreement  kraine would mistake  he  rump administration sent mixed signals conflict  kraine  ut given  r   rump   praise  r   utin  ohn  erbst former  merican ambassador  kraine said feared new president might eager mend relations  ussia  kraine   expense   potentially plan like  r   rtemenko    t late  anuary three men associated proposed plan converged  oews  egency luxury hotel  ark  venue  anhattan business deals made lobby furnished leather couches martinis restaurant bar private conference rooms upper floors  r   ohen    lives two blocks street  rump  ark  venue   lawyer joined  rump  rganization      special counsel worked many deals including tower republic  eorgia mixed martial arts venture starring  ussian fighter  e considered loyal lieutenant  r   rump trusts fix difficult problems  he          reviewing unverified dossier compiled former  ritish intelligence agent funded  r   rump   political opponents claims  r   ohen met  ussian representative  rague presidential campaign discuss  ussia   hacking  emocratic targets  ut  ussian official named report told  he  ew  ork  imes never met  r   ohen  r   ohen insists never visited  rague dossier   assertions fabrications  r   anafort also investigation          connections  ussia  kraine  r   ohen personal connection  kraine  e married  krainian woman worked relatives establish ethanol business  r   rtemenko tall burly arrived  anhattan hotel visits  ashington  is wife said met first lady  elania  rump years ago modeling careers try meet  r  rump  e attended inauguration visited  ongress posting  acebook admiration  r   rump talking peace plan meetings  merican lawmakers  e entered  arliament      year former  krainian president  iktor  anukovych fled  oscow amid protests economic alignment  ussia corruption  r   anafort instrumental getting  r   anukovych elected helped shape political bloc sprang oppose new president  r   oroshenko wealthy businessman taken far tougher stance toward  ussia accused  r   utin wanting absorb  kraine new  ussian  mpire  r   rtemenko    emerged opposition  r   anafort nurtured  he two men never met  r   rtemenko said  efore entering politics  r   rtemenko business ventures  iddle  ast real estate deals  iami area worked agent representing top  krainian athletes  ome colleagues  arliament describe corrupt untrustworthy simply insignificant appears amassed considerable wealth  e fashioned image  r   rump presenting  kraine   answer rising class nationalist leaders  est  e even traveled  leveland last summer  epublican  ational  onvention seizing chance meet members  r   rump   campaign    t   time new leaders new approaches governance country new principles new negotiators international politics   wrote  acebook  an        ur time come    r   rtemenko said saw  r   rump opportunity advocate plan peace  kraine   help advance political career  ssentially plan would require withdrawal  ussian forces eastern  kraine  krainian voters would decide referendum whether  rimea  krainian territory seized  ussia      would leased  ussia term        years  he  krainian ambassador  r   haly rejected lease kind    t gross violation  onstitution   said written answers questions  he  imes    uch ideas pitched pushed openly covertly representing  ussian interests    he reaction suggested  r   rtemenko   project also includes dissemination   kompromat   compromising material purportedly showing  r   oroshenko closest associates corrupt  nly new government presumably one less hostile  ussia might take plan  r   ater longtime business associate  r   rump   connections  ussia willing help  r   rtemenko   proposal reach  hite  ouse  r   rump sought distance  r   ater recent years  f  r   ater   sitting room right    r   rump said      deposition     really   know looked like    ut  r   ater worked real estate development deals  rump  rganization least decade even role stock manipulation scheme came light  r   ater born  oviet  nion grew  ew  ork served executive firm called  ayrock  roup two floors  rump  rganization  rump  ower later senior adviser  r   rump  e said working plan  rump  ower  oscow  ussian real estate developer recently fall      one said come halt  r   rump   presidential campaign  r   ohen said  rump  rganization received letter intent project  oscow  ussian real estate developer time determined project feasible  r   rtemenko said mutual friend put touch  r   ater  elping advance proposal  r   ater said made sense     want stop war number one   said    umber two   absolutely believe        ussia need allies enemies  f   could achieve one stroke would home run    fter speaking  r   ater  r   rtemenko person  r   ohen said would deliver plan  hite  ouse  r   ohen said know  ussian government offered encouragement  r   rtemenko claims understood promise proof corruption  krainian president    raud never good right    r   ohen said  e said  r   ater given written proposal sealed envelope  hen  r   ohen met  r   rump  val  ffice early  ebruary said left proposal  r   lynn   office  r   ohen said waiting response  r   lynn forced post  ow  r   ohen  r   ater  r   rtemenko hoping new national security adviser take cause  n  riday president wrote  witter four new candidates job</td>\n",
       "                        <td id=\"T_1d9f54e6_a1a1_11ee_869f_34f64b3a1034row9_col1\" class=\"data row9 col1\" >0</td>\n",
       "            </tr>\n",
       "    </tbody></table>"
      ],
      "text/plain": [
       "<pandas.io.formats.style.Styler at 0x22b92df69b0>"
      ]
     },
     "execution_count": 36,
     "metadata": {},
     "output_type": "execute_result"
    }
   ],
   "source": [
    "inp_lbl = {'Input': x[0:10], 'Labels': y[0:10]}\n",
    "df = pd.DataFrame(inp_lbl)\n",
    "df.style"
   ]
  },
  {
   "cell_type": "code",
   "execution_count": 37,
   "metadata": {
    "execution": {
     "iopub.execute_input": "2023-12-22T22:11:06.667596Z",
     "iopub.status.busy": "2023-12-22T22:11:06.667059Z",
     "iopub.status.idle": "2023-12-22T22:11:13.623301Z",
     "shell.execute_reply": "2023-12-22T22:11:13.622347Z",
     "shell.execute_reply.started": "2023-12-22T22:11:06.667568Z"
    },
    "id": "2ELrgTHCnpdz"
   },
   "outputs": [],
   "source": [
    "# converting the textual data to numerical data\n",
    "vectorizer = TfidfVectorizer()\n",
    "\n",
    "X = vectorizer.fit_transform(x)"
   ]
  },
  {
   "cell_type": "markdown",
   "metadata": {
    "id": "useie2OXnpdz"
   },
   "source": [
    "### Make Tokenization"
   ]
  },
  {
   "cell_type": "code",
   "execution_count": 38,
   "metadata": {
    "colab": {
     "base_uri": "https://localhost:8080/"
    },
    "execution": {
     "iopub.execute_input": "2023-12-22T22:11:13.625196Z",
     "iopub.status.busy": "2023-12-22T22:11:13.624790Z",
     "iopub.status.idle": "2023-12-22T22:11:13.648386Z",
     "shell.execute_reply": "2023-12-22T22:11:13.647498Z",
     "shell.execute_reply.started": "2023-12-22T22:11:13.625158Z"
    },
    "id": "B9fcqDgsnpdz",
    "outputId": "5169da07-4b68-4e57-ce46-b4659e65832e"
   },
   "outputs": [
    {
     "name": "stdout",
     "output_type": "stream",
     "text": [
      "**************************************************\n",
      "X_Train Shape: (14532, 151244)\n",
      "y_Train Shape: (14532,)\n",
      "X_Test Shape: (6229, 151244)\n",
      "y_Test Shape: (6229,)\n"
     ]
    }
   ],
   "source": [
    "X_train, X_test, y_train, y_test = train_test_split(X, y, train_size=0.7, random_state=0)\n",
    "print('*' * 50)\n",
    "print(f\"X_Train Shape: {X_train.shape}\")\n",
    "print(f\"y_Train Shape: {y_train.shape}\")\n",
    "print(f\"X_Test Shape: {X_test.shape}\")\n",
    "print(f\"y_Test Shape: {y_test.shape}\")"
   ]
  },
  {
   "cell_type": "markdown",
   "metadata": {
    "id": "bNTGF4Ydnpd0"
   },
   "source": [
    "# <font color='orange'> Helper Function </font>"
   ]
  },
  {
   "cell_type": "code",
   "execution_count": 39,
   "metadata": {
    "execution": {
     "iopub.execute_input": "2023-12-22T22:11:13.650038Z",
     "iopub.status.busy": "2023-12-22T22:11:13.649767Z",
     "iopub.status.idle": "2023-12-22T22:11:13.655028Z",
     "shell.execute_reply": "2023-12-22T22:11:13.654004Z",
     "shell.execute_reply.started": "2023-12-22T22:11:13.650014Z"
    },
    "id": "CY1zK80Anpd0"
   },
   "outputs": [],
   "source": [
    "def HelperModelFunction(model, X_train, y_train, X_test, y_test):\n",
    "    model.fit(X_train, y_train)\n",
    "    y_pred_train = model.predict(X_train)\n",
    "    y_pred_val = model.predict(X_test)\n",
    "    train_acc = accuracy_score(y_train, y_pred_train)\n",
    "    test_acc = accuracy_score(y_test, y_pred_val)\n",
    "    return train_acc, test_acc"
   ]
  },
  {
   "cell_type": "markdown",
   "metadata": {
    "id": "5iFhFrqGnpd0"
   },
   "source": [
    "# <font color='orange'> 2. KNN model </font>"
   ]
  },
  {
   "cell_type": "code",
   "execution_count": 40,
   "metadata": {},
   "outputs": [
    {
     "data": {
      "image/png": "[encoded data removed]",
      "text/plain": [
       "<Figure size 432x288 with 1 Axes>"
      ]
     },
     "metadata": {},
     "output_type": "display_data"
    }
   ],
   "source": [
    "# Vary the number of neighbors (n) and evaluate the performance\n",
    "neighbors_range = range(1, 11)  # You can adjust this range based on your preferences\n",
    "accuracy_scores = []\n",
    "\n",
    "for n in neighbors_range:\n",
    "    knn_model = KNeighborsClassifier(n_neighbors=n)\n",
    "    knn_model.fit(X_train, y_train)\n",
    "    y_pred = knn_model.predict(X_test)\n",
    "    accuracy = accuracy_score(y_test, y_pred)\n",
    "    accuracy_scores.append(accuracy)\n",
    "\n",
    "# Plotting the accuracy scores for different values of n\n",
    "plt.plot(neighbors_range, accuracy_scores, marker='o')\n",
    "plt.title('KNN Model Performance for Different Values of n')\n",
    "plt.xlabel('Number of Neighbors (n)')\n",
    "plt.ylabel('Accuracy Score')\n",
    "plt.xticks(neighbors_range)\n",
    "plt.grid(True)\n",
    "plt.show()"
   ]
  },
  {
   "cell_type": "markdown",
   "metadata": {
    "id": "QkG0AZGKnpd1"
   },
   "source": [
    "This Diagram for accuarcy score with different values of N, So best value is  N = 2."
   ]
  },
  {
   "cell_type": "code",
   "execution_count": 41,
   "metadata": {},
   "outputs": [
    {
     "name": "stdout",
     "output_type": "stream",
     "text": [
      "0.9928433801266171\n",
      "0.6002568630598812\n"
     ]
    }
   ],
   "source": [
    "KNN = KNeighborsClassifier(n_neighbors=2)\n",
    "train_acc, test_acc = HelperModelFunction(KNN, X_train, y_train, X_test, y_test)\n",
    "print(train_acc)\n",
    "print(test_acc)"
   ]
  },
  {
   "cell_type": "markdown",
   "metadata": {
    "id": "Dy-GQO0tnpd2"
   },
   "source": [
    "# <font color='orange'> 3. NB model </font>"
   ]
  },
  {
   "cell_type": "markdown",
   "metadata": {
    "id": "yZD76Vocnpd2"
   },
   "source": [
    "# <font color='orange'> 3.1 comparing different types of  Naive Bayes </font>"
   ]
  },
  {
   "cell_type": "code",
   "execution_count": 42,
   "metadata": {
    "colab": {
     "base_uri": "https://localhost:8080/"
    },
    "id": "1FRGpYOX1SHU",
    "outputId": "9b25b177-f512-40a1-e06f-63a667c78e09"
   },
   "outputs": [
    {
     "name": "stdout",
     "output_type": "stream",
     "text": [
      "GaussianNB\n",
      "0.9966666666666667 0.7756666666666666\n",
      "--------------------------\n",
      "MultinomialNB\n",
      "0.9496666666666667 0.8713333333333333\n",
      "--------------------------\n",
      "ComplementNB\n",
      "0.941 0.853\n",
      "--------------------------\n",
      "BernoulliNB\n",
      "0.8233333333333334 0.7493333333333333\n",
      "--------------------------\n"
     ]
    }
   ],
   "source": [
    "# Storing models in a list to loop through them\n",
    "models_list = [\n",
    "    GaussianNB(),\n",
    "    MultinomialNB(),\n",
    "    ComplementNB(),\n",
    "    BernoulliNB(),\n",
    "]\n",
    "\n",
    "# for each model\n",
    "for model in models_list:\n",
    "    # evaluate the model and calculate acc_train and acc_val\n",
    "    train_acc, test_acc = HelperModelFunction(\n",
    "        model,\n",
    "        X_train,\n",
    "        y_train,\n",
    "        X_test,\n",
    "        y_test\n",
    "    )\n",
    "    # Display model name with acc_train and acc_val\n",
    "    print(model.__class__.__name__)\n",
    "    print(train_acc, test_acc)\n",
    "    print('--------------------------')"
   ]
  },
  {
   "cell_type": "code",
   "execution_count": 43,
   "metadata": {
    "colab": {
     "base_uri": "https://localhost:8080/"
    },
    "id": "BtQ86re3zTGU",
    "outputId": "d7118bd7-573c-4096-f5b0-28889e186e94"
   },
   "outputs": [
    {
     "name": "stdout",
     "output_type": "stream",
     "text": [
      "      model_name  train_acc  test_acc\n",
      "0     GaussianNB   0.996667  0.775667\n",
      "1  MultinomialNB   0.949667  0.871333\n",
      "2   ComplementNB   0.941000  0.853000\n",
      "3    BernoulliNB   0.823333  0.749333\n"
     ]
    }
   ],
   "source": [
    "# Storing models in a list to loop through them\n",
    "models_list = [\n",
    "    GaussianNB(),\n",
    "    MultinomialNB(),\n",
    "    ComplementNB(),\n",
    "    BernoulliNB(),\n",
    "]\n",
    "\n",
    "# creating a dictionary to store results\n",
    "results_dict = {\n",
    "    'model_name': [],\n",
    "    'train_acc': [],\n",
    "    'test_acc': [],\n",
    "}\n",
    "\n",
    "# for each model\n",
    "for model in models_list:\n",
    "    # evaluate the model and calculate acc_train and acc_val\n",
    "    train_acc, test_acc = HelperModelFunction(\n",
    "        model,\n",
    "        X_train,\n",
    "        y_train,\n",
    "        X_test,\n",
    "        y_test\n",
    "    )\n",
    "\n",
    "\n",
    "    # storing results in results_dict\n",
    "    results_dict['model_name'].append(model.__class__.__name__)\n",
    "    results_dict['train_acc'].append(train_acc)\n",
    "    results_dict['test_acc'].append(test_acc)\n",
    "\n",
    "# converting results_dict to a DataFrame\n",
    "results = pd.DataFrame(results_dict)\n",
    "print(results)\n"
   ]
  },
  {
   "cell_type": "code",
   "execution_count": 44,
   "metadata": {
    "colab": {
     "base_uri": "https://localhost:8080/",
     "height": 579
    },
    "id": "Ukm1sp-9npd3",
    "outputId": "2c7445dd-e8ac-4ac2-c8ac-c9ca87f445a7"
   },
   "outputs": [
    {
     "data": {
      "image/png": "[encoded data removed]",
      "text/plain": [
       "<Figure size 500x500 with 1 Axes>"
      ]
     },
     "metadata": {},
     "output_type": "display_data"
    }
   ],
   "source": [
    "%matplotlib inline\n",
    "results.plot.bar(x='model_name', y=['train_acc', 'test_acc'], figsize=(5, 5))\n",
    "plt.grid(axis='y')\n",
    "plt.show()"
   ]
  },
  {
   "cell_type": "markdown",
   "metadata": {
    "id": "bdeis9E-npd4"
   },
   "source": [
    " Final model"
   ]
  },
  {
   "cell_type": "code",
   "execution_count": 45,
   "metadata": {
    "colab": {
     "base_uri": "https://localhost:8080/"
    },
    "id": "hiOkmXj3npd4",
    "outputId": "0b4314f5-382b-4327-a89f-b4752c3a3abf"
   },
   "outputs": [
    {
     "name": "stdout",
     "output_type": "stream",
     "text": [
      "0.9121249655931737\n",
      "0.87381602183336\n"
     ]
    }
   ],
   "source": [
    "NB = MultinomialNB()\n",
    "train_acc, test_acc = HelperModelFunction(NB, X_train, y_train, X_test, y_test)\n",
    "print(train_acc)\n",
    "print(test_acc)"
   ]
  },
  {
   "cell_type": "markdown",
   "metadata": {
    "id": "PrTx4dWTnpd4"
   },
   "source": [
    "# <font color='orange'> 4. DT model </font>"
   ]
  },
  {
   "cell_type": "code",
   "execution_count": 46,
   "metadata": {
    "id": "Kkm0aTjTnpd4"
   },
   "outputs": [],
   "source": [
    "max_depth_values = [1,2,3,4,5,6,7,8]\n",
    "train_accuracy_values = []\n",
    "val_accuracy_values = []\n",
    "\n",
    "for max_depth_val in max_depth_values:\n",
    "    model = DecisionTreeClassifier(max_depth=max_depth_val, random_state=0)\n",
    "    model.fit(X_train, y_train)\n",
    "\n",
    "    y_pred_train = model.predict(X_train)\n",
    "    y_pred_val = model.predict(X_test)\n",
    "\n",
    "    acc_train = accuracy_score(y_train, y_pred_train)\n",
    "    acc_val = accuracy_score(y_test, y_pred_val)\n",
    "\n",
    "    train_accuracy_values.append(acc_train)\n",
    "    val_accuracy_values.append(acc_val)"
   ]
  },
  {
   "cell_type": "code",
   "execution_count": 47,
   "metadata": {
    "colab": {
     "base_uri": "https://localhost:8080/",
     "height": 480
    },
    "id": "BfEm5ntRnpd5",
    "outputId": "8b0deb16-6680-4983-c7bc-de1b2791d75e"
   },
   "outputs": [
    {
     "data": {
      "image/png": "[encoded data removed]",
      "text/plain": [
       "<Figure size 640x480 with 1 Axes>"
      ]
     },
     "metadata": {},
     "output_type": "display_data"
    }
   ],
   "source": [
    "plt.plot(max_depth_values, train_accuracy_values, label='acc_train')\n",
    "plt.plot(max_depth_values, val_accuracy_values, label='acc_test')\n",
    "plt.legend()\n",
    "plt.grid('both')\n",
    "plt.xlabel('max_depth')\n",
    "plt.ylabel('accuracy')\n",
    "plt.title('Effect of max_depth on accuracy')\n",
    "plt.show()"
   ]
  },
  {
   "cell_type": "code",
   "execution_count": 48,
   "metadata": {
    "colab": {
     "base_uri": "https://localhost:8080/"
    },
    "id": "7L1OVMBgnpd5",
    "outputId": "ae54c16a-fb56-4035-f202-e8e1e3f83783"
   },
   "outputs": [
    {
     "name": "stdout",
     "output_type": "stream",
     "text": [
      "0.9464629782548858\n",
      "0.9457376786000963\n"
     ]
    }
   ],
   "source": [
    "Best_DT = DecisionTreeClassifier(max_depth= 5 ,random_state=2)\n",
    "train_acc, test_acc = HelperModelFunction(Best_DT, X_train, y_train, X_test, y_test)\n",
    "\n",
    "print(train_acc)\n",
    "print(test_acc)"
   ]
  },
  {
   "cell_type": "markdown",
   "metadata": {
    "id": "nrNu0g-enpd6"
   },
   "source": [
    "# <font color='orange'> 5. Logistic Regression model </font>"
   ]
  },
  {
   "cell_type": "code",
   "execution_count": 49,
   "metadata": {
    "colab": {
     "base_uri": "https://localhost:8080/",
     "height": 758
    },
    "id": "ZDuhobJFnpd6",
    "outputId": "6e9f86bf-305c-41ae-cb45-9777ca97fc8c"
   },
   "outputs": [
    {
     "name": "stderr",
     "output_type": "stream",
     "text": [
      "/usr/local/lib/python3.10/dist-packages/sklearn/linear_model/_logistic.py:458: ConvergenceWarning: lbfgs failed to converge (status=1):\n",
      "STOP: TOTAL NO. of ITERATIONS REACHED LIMIT.\n",
      "\n",
      "Increase the number of iterations (max_iter) or scale the data as shown in:\n",
      "    https://scikit-learn.org/stable/modules/preprocessing.html\n",
      "Please also refer to the documentation for alternative solver options:\n",
      "    https://scikit-learn.org/stable/modules/linear_model.html#logistic-regression\n",
      "  n_iter_i = _check_optimize_result(\n",
      "/usr/local/lib/python3.10/dist-packages/sklearn/linear_model/_logistic.py:458: ConvergenceWarning: lbfgs failed to converge (status=1):\n",
      "STOP: TOTAL NO. of ITERATIONS REACHED LIMIT.\n",
      "\n",
      "Increase the number of iterations (max_iter) or scale the data as shown in:\n",
      "    https://scikit-learn.org/stable/modules/preprocessing.html\n",
      "Please also refer to the documentation for alternative solver options:\n",
      "    https://scikit-learn.org/stable/modules/linear_model.html#logistic-regression\n",
      "  n_iter_i = _check_optimize_result(\n"
     ]
    },
    {
     "data": {
      "image/png": "[encoded data removed]",
      "text/plain": [
       "<Figure size 640x480 with 1 Axes>"
      ]
     },
     "metadata": {},
     "output_type": "display_data"
    }
   ],
   "source": [
    "C_values = np.logspace(-3, 3, 7)  # You can adjust this range based on your preferences\n",
    "accuracy_scores = []\n",
    "\n",
    "for C in C_values:\n",
    "    lr_model = LogisticRegression(C=C, random_state=42)\n",
    "    lr_model.fit(X_train, y_train)\n",
    "    y_pred = lr_model.predict(X_test)\n",
    "    accuracy = accuracy_score(y_test, y_pred)\n",
    "    accuracy_scores.append(accuracy)\n",
    "\n",
    "# Plotting the accuracy scores for different values of C\n",
    "plt.plot(np.log10(C_values), accuracy_scores, marker='o')  # Using log scale for better visualization\n",
    "plt.title('Logistic Regression Model Performance for Different Values of C')\n",
    "plt.xlabel('log10(C)')\n",
    "plt.ylabel('Accuracy Score')\n",
    "plt.grid(True)\n",
    "plt.show()"
   ]
  },
  {
   "cell_type": "markdown",
   "metadata": {
    "id": "0vKwlUfRnpd6"
   },
   "source": [
    "This Diagram for accuarcy score with different values of C, So best value is 3."
   ]
  },
  {
   "cell_type": "code",
   "execution_count": 50,
   "metadata": {
    "colab": {
     "base_uri": "https://localhost:8080/"
    },
    "id": "33mVjb98npd7",
    "outputId": "085acea5-68ce-4bcc-bf89-418dc55b454f"
   },
   "outputs": [
    {
     "name": "stdout",
     "output_type": "stream",
     "text": [
      "0.993531516652904\n",
      "0.9640391716166319\n"
     ]
    }
   ],
   "source": [
    "log_model = LogisticRegression(n_jobs=1, solver='sag', C=3)\n",
    "train_acc, test_acc = HelperModelFunction(log_model, X_train, y_train, X_test, y_test)\n",
    "print(train_acc)\n",
    "print(test_acc)"
   ]
  },
  {
   "cell_type": "code",
   "execution_count": null,
   "metadata": {
    "id": "aTSEfx-Tnpd7"
   },
   "outputs": [],
   "source": []
  }
 ],
 "metadata": {
  "colab": {
   "provenance": []
  },
  "kaggle": {
   "accelerator": "none",
   "dataSources": [
    {
     "datasetId": 2623949,
     "sourceId": 4484183,
     "sourceType": "datasetVersion"
    },
    {
     "datasetId": 4209690,
     "sourceId": 7263257,
     "sourceType": "datasetVersion"
    }
   ],
   "dockerImageVersionId": 30626,
   "isGpuEnabled": false,
   "isInternetEnabled": true,
   "language": "python",
   "sourceType": "notebook"
  },
  "kernelspec": {
   "display_name": "Python 3",
   "language": "python",
   "name": "python3"
  },
  "language_info": {
   "codemirror_mode": {
    "name": "ipython",
    "version": 3
   },
   "file_extension": ".py",
   "mimetype": "text/x-python",
   "name": "python",
   "nbconvert_exporter": "python",
   "pygments_lexer": "ipython3",
   "version": "3.6.13"
  }
 },
 "nbformat": 4,
 "nbformat_minor": 1
}
